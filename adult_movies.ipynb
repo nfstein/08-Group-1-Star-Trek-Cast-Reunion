{
 "cells": [
  {
   "cell_type": "code",
   "execution_count": 1,
   "metadata": {
    "collapsed": true
   },
   "outputs": [],
   "source": [
    "from star_trek_tos_data import guest_movies"
   ]
  },
  {
   "cell_type": "code",
   "execution_count": 3,
   "metadata": {},
   "outputs": [
    {
     "name": "stdout",
     "output_type": "stream",
     "text": [
      "398118  -  Blue Ice ['Reggie Nalder']\n",
      "215746  -  Dracula Sucks ['Reggie Nalder']\n",
      "5699  -  Star Virgin ['Charles Dierkop']\n",
      "375426  -  Body Talk ['Angelique Pettyjohn']\n",
      "448822  -  Stalag 69 ['Angelique Pettyjohn']\n",
      "28781  -  Beyond Fulfillment ['Dyanne Thorne']\n",
      "80626  -  Love and Kisses ['Charles Napier']\n"
     ]
    }
   ],
   "source": [
    "for movie in guest_movies:\n",
    "    try:\n",
    "        if guest_movies[movie]['adult']:\n",
    "            print( movie, ' - ', guest_movies[movie]['original_title'], guest_movies[movie]['guest_names'])\n",
    "    except:\n",
    "        pass"
   ]
  },
  {
   "cell_type": "code",
   "execution_count": null,
   "metadata": {
    "collapsed": true
   },
   "outputs": [],
   "source": []
  }
 ],
 "metadata": {
  "kernelspec": {
   "display_name": "Python 3",
   "language": "python",
   "name": "python3"
  },
  "language_info": {
   "codemirror_mode": {
    "name": "ipython",
    "version": 3
   },
   "file_extension": ".py",
   "mimetype": "text/x-python",
   "name": "python",
   "nbconvert_exporter": "python",
   "pygments_lexer": "ipython3",
   "version": "3.6.3"
  }
 },
 "nbformat": 4,
 "nbformat_minor": 2
}
