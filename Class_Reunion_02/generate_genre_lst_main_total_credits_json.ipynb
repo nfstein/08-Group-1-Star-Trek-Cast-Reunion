{
 "cells": [
  {
   "cell_type": "code",
   "execution_count": 1,
   "metadata": {
    "collapsed": true
   },
   "outputs": [],
   "source": [
    "import json\n",
    "import requests\n",
    "from time import sleep\n",
    "import pandas as pd\n",
    "from key_vault import tmdb_api\n",
    "api_key = tmdb_api\n"
   ]
  },
  {
   "cell_type": "code",
   "execution_count": 2,
   "metadata": {
    "collapsed": true
   },
   "outputs": [],
   "source": [
    "# setting up initial api pull for star treck\n",
    "url = 'http://api.themoviedb.org/3'\n",
    "tv_list= '/genre/tv/list'\n",
    "movie_list= '/genre/movie/list'\n",
    "tv_genre = requests.get(url + tv_list + \"?page=1\" + \"&api_key=\" + api_key).json()\n",
    "movie_genre = requests.get(url + movie_list + \"?page=1\" + \"&api_key=\" + api_key).json()\n",
    "#tv_genre"
   ]
  },
  {
   "cell_type": "code",
   "execution_count": 3,
   "metadata": {
    "collapsed": true
   },
   "outputs": [],
   "source": [
    "#pull the genre lists for movies and tv\n",
    "tvgenre_df=pd.DataFrame(tv_genre['genres'])\n",
    "moviegenre_df=pd.DataFrame(movie_genre['genres'])\n"
   ]
  },
  {
   "cell_type": "code",
   "execution_count": 4,
   "metadata": {},
   "outputs": [
    {
     "data": {
      "text/html": [
       "<div>\n",
       "<style>\n",
       "    .dataframe thead tr:only-child th {\n",
       "        text-align: right;\n",
       "    }\n",
       "\n",
       "    .dataframe thead th {\n",
       "        text-align: left;\n",
       "    }\n",
       "\n",
       "    .dataframe tbody tr th {\n",
       "        vertical-align: top;\n",
       "    }\n",
       "</style>\n",
       "<table border=\"1\" class=\"dataframe\">\n",
       "  <thead>\n",
       "    <tr style=\"text-align: right;\">\n",
       "      <th></th>\n",
       "      <th>id</th>\n",
       "      <th>name</th>\n",
       "    </tr>\n",
       "  </thead>\n",
       "  <tbody>\n",
       "    <tr>\n",
       "      <th>0</th>\n",
       "      <td>10759</td>\n",
       "      <td>Action &amp; Adventure</td>\n",
       "    </tr>\n",
       "    <tr>\n",
       "      <th>1</th>\n",
       "      <td>16</td>\n",
       "      <td>Animation</td>\n",
       "    </tr>\n",
       "    <tr>\n",
       "      <th>2</th>\n",
       "      <td>35</td>\n",
       "      <td>Comedy</td>\n",
       "    </tr>\n",
       "    <tr>\n",
       "      <th>3</th>\n",
       "      <td>80</td>\n",
       "      <td>Crime</td>\n",
       "    </tr>\n",
       "    <tr>\n",
       "      <th>4</th>\n",
       "      <td>99</td>\n",
       "      <td>Documentary</td>\n",
       "    </tr>\n",
       "  </tbody>\n",
       "</table>\n",
       "</div>"
      ],
      "text/plain": [
       "      id                name\n",
       "0  10759  Action & Adventure\n",
       "1     16           Animation\n",
       "2     35              Comedy\n",
       "3     80               Crime\n",
       "4     99         Documentary"
      ]
     },
     "execution_count": 4,
     "metadata": {},
     "output_type": "execute_result"
    }
   ],
   "source": [
    "#merge the two lists drop duplicates\n",
    "genre_list=pd.concat([tvgenre_df,moviegenre_df], axis=0)\n",
    "genre_list=genre_list.drop_duplicates('id')\n",
    "genre_list=genre_list.reset_index(drop=True)\n",
    "genre_list.head()"
   ]
  },
  {
   "cell_type": "code",
   "execution_count": 5,
   "metadata": {},
   "outputs": [
    {
     "data": {
      "text/plain": [
       "{12: 'Adventure',\n",
       " 14: 'Fantasy',\n",
       " 16: 'Animation',\n",
       " 18: 'Drama',\n",
       " 27: 'Horror',\n",
       " 28: 'Action',\n",
       " 35: 'Comedy',\n",
       " 36: 'History',\n",
       " 37: 'Western',\n",
       " 53: 'Thriller',\n",
       " 80: 'Crime',\n",
       " 99: 'Documentary',\n",
       " 878: 'Science Fiction',\n",
       " 9648: 'Mystery',\n",
       " 10402: 'Music',\n",
       " 10749: 'Romance',\n",
       " 10751: 'Family',\n",
       " 10752: 'War',\n",
       " 10759: 'Action & Adventure',\n",
       " 10762: 'Kids',\n",
       " 10763: 'News',\n",
       " 10764: 'Reality',\n",
       " 10765: 'Sci-Fi & Fantasy',\n",
       " 10766: 'Soap',\n",
       " 10767: 'Talk',\n",
       " 10768: 'War & Politics',\n",
       " 10770: 'TV Movie'}"
      ]
     },
     "execution_count": 5,
     "metadata": {},
     "output_type": "execute_result"
    }
   ],
   "source": [
    "#convert the list into a dictionary\n",
    "dictionary={}\n",
    "id=genre_list['id']\n",
    "name=genre_list['name']\n",
    "loops= len(id)\n",
    "for x in range(loops):\n",
    "    dictionary[id[x]]=name[x] \n",
    "dictionary"
   ]
  },
  {
   "cell_type": "code",
   "execution_count": 6,
   "metadata": {
    "collapsed": true
   },
   "outputs": [],
   "source": [
    "#save as csv file named genre_list.csv\n",
    "genre_list.to_csv(\"genre_list.csv\", encoding= 'utf-8', index = False)"
   ]
  },
  {
   "cell_type": "code",
   "execution_count": 7,
   "metadata": {},
   "outputs": [
    {
     "name": "stdout",
     "output_type": "stream",
     "text": [
      "0 / 9 \t1 / 9 \t2 / 9 \t3 / 9 \t4 / 9 \t5 / 9 \t6 / 9 \t7 / 9 \t8 / 9 \t9 / 9 \t"
     ]
    }
   ],
   "source": [
    "#pull total credit for each of the main cast members \n",
    "main_ids=['1748','1749','1750','1751','1752','1753','1754','1755','1214943','1214944']\n",
    "credits = {}\n",
    "count = 0\n",
    "# loops through each main and adds their total credits to their id\n",
    "for id_num in main_ids:\n",
    "#print a counter to see where you are in the loop\n",
    "    print(count, '/', len(main_ids)-1, end = ' \\t')\n",
    "    url = f'https://api.themoviedb.org/3/person/{id_num}/combined_credits?api_key={api_key}&language=en-US'\n",
    "    dat = requests.get(url).json()\n",
    "    sleep(.3)\n",
    "    credits[id_num]=dat\n",
    "    count += 1\n"
   ]
  },
  {
   "cell_type": "code",
   "execution_count": 8,
   "metadata": {},
   "outputs": [],
   "source": [
    "#save the data in json format as main_credits.txt\n",
    "with open('main_credits.txt', 'w') as file:\n",
    "    json.dump(credits, file)"
   ]
  },
  {
   "cell_type": "code",
   "execution_count": null,
   "metadata": {
    "collapsed": true
   },
   "outputs": [],
   "source": []
  }
 ],
 "metadata": {
  "kernelspec": {
   "display_name": "Python 3",
   "language": "python",
   "name": "python3"
  },
  "language_info": {
   "codemirror_mode": {
    "name": "ipython",
    "version": 3
   },
   "file_extension": ".py",
   "mimetype": "text/x-python",
   "name": "python",
   "nbconvert_exporter": "python",
   "pygments_lexer": "ipython3",
   "version": "3.6.2"
  }
 },
 "nbformat": 4,
 "nbformat_minor": 2
}
