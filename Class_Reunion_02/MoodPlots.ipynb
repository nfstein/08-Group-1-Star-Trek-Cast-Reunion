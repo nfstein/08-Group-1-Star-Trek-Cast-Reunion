{
 "cells": [
  {
   "cell_type": "markdown",
   "metadata": {},
   "source": [
    "MOOD COMPARISION GENERAL MOVIES VS STAR TREK GUEST STAR MOVIES"
   ]
  },
  {
   "cell_type": "code",
   "execution_count": 114,
   "metadata": {
    "collapsed": true
   },
   "outputs": [],
   "source": [
    "# Import Needy Files\n",
    "\n",
    "import json\n",
    "import sample_data as MOV\n",
    "import star_trek_tos_data as TOS\n",
    "import pandas as pd\n",
    "import matplotlib.pyplot as plt\n",
    "import numpy as np\n",
    "import seaborn as sns\n",
    "from datetime import datetime\n",
    "import scipy.stats\n",
    "\n",
    "from vaderSentiment.vaderSentiment import SentimentIntensityAnalyzer\n",
    "analyzer = SentimentIntensityAnalyzer()"
   ]
  },
  {
   "cell_type": "code",
   "execution_count": 115,
   "metadata": {},
   "outputs": [],
   "source": [
    "# Load General Movie Names and Movie Description\n",
    "\n",
    "description_mov = []\n",
    "title_mov = []\n",
    "\n",
    "for movie_id in MOV.sample_movies:\n",
    "    movie_dat = MOV.sample_movies[movie_id]\n",
    "    \n",
    "    # print(json.dumps(movie_dat['adult'], indent = 4, sort_keys = True))\n",
    "    \n",
    "    try:\n",
    "        description_mov.append(movie_dat['overview'])\n",
    "        title_mov.append(movie_dat['original_title'])\n",
    "        # guest_name.append(movie_dat['guest_names'])\n",
    "    \n",
    "    except KeyError:\n",
    "        print('Error')"
   ]
  },
  {
   "cell_type": "code",
   "execution_count": 116,
   "metadata": {
    "scrolled": false
   },
   "outputs": [],
   "source": [
    "df_mov = pd.DataFrame({'Movie Title': title_MOV,\n",
    "                  'Description': description_MOV,\n",
    "                  })"
   ]
  },
  {
   "cell_type": "code",
   "execution_count": 117,
   "metadata": {},
   "outputs": [],
   "source": [
    "sentiments_mov = {}\n",
    "\n",
    "compound = []\n",
    "positive = []\n",
    "negative = []\n",
    "neutral = []\n",
    "    \n",
    "for text in df_mov['Description']:\n",
    "    \n",
    "    results = analyzer.polarity_scores(text)\n",
    "    com = results[\"compound\"]\n",
    "    pos = results[\"pos\"]\n",
    "    neg = results[\"neg\"]\n",
    "    neu = results[\"neu\"]\n",
    "            \n",
    "    compound.append(com)\n",
    "    positive.append(pos)\n",
    "    negative.append(neg)\n",
    "    neutral.append(neu)\n",
    "    \n",
    "sentiments_mov=(compound, positive, negative, neutral)"
   ]
  },
  {
   "cell_type": "code",
   "execution_count": 118,
   "metadata": {},
   "outputs": [],
   "source": [
    "the_data_mov = {'Compound': sentiments_mov[0],\n",
    "           'Positive': sentiments_mov[1],\n",
    "           'Negative': sentiments_mov[2],\n",
    "           'Neutral': sentiments_mov[3],\n",
    "            'Movie Title': title_mov,\n",
    "               }"
   ]
  },
  {
   "cell_type": "code",
   "execution_count": 119,
   "metadata": {
    "scrolled": true
   },
   "outputs": [
    {
     "data": {
      "text/html": [
       "<div>\n",
       "<style>\n",
       "    .dataframe thead tr:only-child th {\n",
       "        text-align: right;\n",
       "    }\n",
       "\n",
       "    .dataframe thead th {\n",
       "        text-align: left;\n",
       "    }\n",
       "\n",
       "    .dataframe tbody tr th {\n",
       "        vertical-align: top;\n",
       "    }\n",
       "</style>\n",
       "<table border=\"1\" class=\"dataframe\">\n",
       "  <thead>\n",
       "    <tr style=\"text-align: right;\">\n",
       "      <th></th>\n",
       "      <th>Compound</th>\n",
       "      <th>Movie Title</th>\n",
       "      <th>Negative</th>\n",
       "      <th>Neutral</th>\n",
       "      <th>Positive</th>\n",
       "    </tr>\n",
       "  </thead>\n",
       "  <tbody>\n",
       "    <tr>\n",
       "      <th>1</th>\n",
       "      <td>-0.6486</td>\n",
       "      <td>대한민국 1%</td>\n",
       "      <td>0.135</td>\n",
       "      <td>0.777</td>\n",
       "      <td>0.088</td>\n",
       "    </tr>\n",
       "    <tr>\n",
       "      <th>2</th>\n",
       "      <td>-0.1280</td>\n",
       "      <td>Zucchero - Zu and co. - Live at the Royal Albe...</td>\n",
       "      <td>0.045</td>\n",
       "      <td>0.955</td>\n",
       "      <td>0.000</td>\n",
       "    </tr>\n",
       "    <tr>\n",
       "      <th>3</th>\n",
       "      <td>-0.7630</td>\n",
       "      <td>Hidden Agenda</td>\n",
       "      <td>0.204</td>\n",
       "      <td>0.665</td>\n",
       "      <td>0.131</td>\n",
       "    </tr>\n",
       "    <tr>\n",
       "      <th>4</th>\n",
       "      <td>0.9497</td>\n",
       "      <td>Sade Live</td>\n",
       "      <td>0.000</td>\n",
       "      <td>0.823</td>\n",
       "      <td>0.177</td>\n",
       "    </tr>\n",
       "    <tr>\n",
       "      <th>5</th>\n",
       "      <td>0.0000</td>\n",
       "      <td>Moonrunners</td>\n",
       "      <td>0.000</td>\n",
       "      <td>1.000</td>\n",
       "      <td>0.000</td>\n",
       "    </tr>\n",
       "  </tbody>\n",
       "</table>\n",
       "</div>"
      ],
      "text/plain": [
       "   Compound                                        Movie Title  Negative  \\\n",
       "1   -0.6486                                            대한민국 1%     0.135   \n",
       "2   -0.1280  Zucchero - Zu and co. - Live at the Royal Albe...     0.045   \n",
       "3   -0.7630                                      Hidden Agenda     0.204   \n",
       "4    0.9497                                          Sade Live     0.000   \n",
       "5    0.0000                                        Moonrunners     0.000   \n",
       "\n",
       "   Neutral  Positive  \n",
       "1    0.777     0.088  \n",
       "2    0.955     0.000  \n",
       "3    0.665     0.131  \n",
       "4    0.823     0.177  \n",
       "5    1.000     0.000  "
      ]
     },
     "execution_count": 119,
     "metadata": {},
     "output_type": "execute_result"
    }
   ],
   "source": [
    "senti_data_mov = pd.DataFrame(the_data_mov)\n",
    "senti_data_mov.index = range(1,501)\n",
    "senti_data_mov.head()"
   ]
  },
  {
   "cell_type": "code",
   "execution_count": 120,
   "metadata": {},
   "outputs": [
    {
     "data": {
      "image/png": "[encoded data removed]",
      "text/plain": [
       "<matplotlib.figure.Figure at 0x2b20c2b8160>"
      ]
     },
     "metadata": {},
     "output_type": "display_data"
    }
   ],
   "source": [
    "plt.hist(senti_data_mov['Compound'], normed=True, bins=30, color = 'orange')\n",
    "plt.ylabel('Probability')\n",
    "plt.savefig('senti_data_mov')\n",
    "plt.title('Sentiment Analysis for 500 General Movies')\n",
    "plt.xlabel('Compound Scores')\n",
    "plt.style.use('seaborn-darkgrid')\n",
    "plt.show()"
   ]
  },
  {
   "cell_type": "code",
   "execution_count": 121,
   "metadata": {},
   "outputs": [
    {
     "name": "stdout",
     "output_type": "stream",
     "text": [
      "Error\n"
     ]
    }
   ],
   "source": [
    "# Load Star Trek Movie Names and Moive Description\n",
    "\n",
    "description_tos = []\n",
    "title_tos = []\n",
    "\n",
    "for movie_id in TOS.guest_movies:\n",
    "    movie_dat = TOS.guest_movies[movie_id]\n",
    "    \n",
    "    # print(json.dumps(movie_dat['adult'], indent = 4, sort_keys = True))\n",
    "    \n",
    "    try:\n",
    "        description_tos.append(movie_dat['overview'])\n",
    "        title_tos.append(movie_dat['original_title'])\n",
    "        # guest_name.append(movie_dat['guest_names'])\n",
    "    \n",
    "    except KeyError:\n",
    "        print('Error')"
   ]
  },
  {
   "cell_type": "code",
   "execution_count": 122,
   "metadata": {
    "scrolled": true
   },
   "outputs": [],
   "source": [
    "df_tos = pd.DataFrame({'Movie Title': title_tos,\n",
    "                  'Description': description_tos,\n",
    "                  })"
   ]
  },
  {
   "cell_type": "code",
   "execution_count": 123,
   "metadata": {},
   "outputs": [],
   "source": [
    "# Select Random 500 samples from df_TOS data frame\n",
    "\n",
    "df_tos = df_tos.sample(500)"
   ]
  },
  {
   "cell_type": "code",
   "execution_count": 124,
   "metadata": {
    "collapsed": true
   },
   "outputs": [],
   "source": [
    "sentiments_tos = {}\n",
    "\n",
    "compound = []\n",
    "positive = []\n",
    "negative = []\n",
    "neutral = []\n",
    "    \n",
    "for text in df_tos['Description']:\n",
    "    \n",
    "    results = analyzer.polarity_scores(text)\n",
    "    com = results[\"compound\"]\n",
    "    pos = results[\"pos\"]\n",
    "    neg = results[\"neg\"]\n",
    "    neu = results[\"neu\"]\n",
    "            \n",
    "    compound.append(com)\n",
    "    positive.append(pos)\n",
    "    negative.append(neg)\n",
    "    neutral.append(neu)\n",
    "    \n",
    "sentiments_tos=(compound, positive, negative, neutral)"
   ]
  },
  {
   "cell_type": "code",
   "execution_count": 125,
   "metadata": {},
   "outputs": [],
   "source": [
    "the_data_tos = {'Compound': sentiments_tos[0],\n",
    "           'Positive': sentiments_tos[1],\n",
    "           'Negative': sentiments_tos[2],\n",
    "           'Neutral': sentiments_tos[3],\n",
    "            'Movie Title': df_tos['Movie Title'],\n",
    "               }"
   ]
  },
  {
   "cell_type": "code",
   "execution_count": 126,
   "metadata": {},
   "outputs": [
    {
     "data": {
      "text/html": [
       "<div>\n",
       "<style>\n",
       "    .dataframe thead tr:only-child th {\n",
       "        text-align: right;\n",
       "    }\n",
       "\n",
       "    .dataframe thead th {\n",
       "        text-align: left;\n",
       "    }\n",
       "\n",
       "    .dataframe tbody tr th {\n",
       "        vertical-align: top;\n",
       "    }\n",
       "</style>\n",
       "<table border=\"1\" class=\"dataframe\">\n",
       "  <thead>\n",
       "    <tr style=\"text-align: right;\">\n",
       "      <th></th>\n",
       "      <th>Compound</th>\n",
       "      <th>Movie Title</th>\n",
       "      <th>Negative</th>\n",
       "      <th>Neutral</th>\n",
       "      <th>Positive</th>\n",
       "    </tr>\n",
       "  </thead>\n",
       "  <tbody>\n",
       "    <tr>\n",
       "      <th>1</th>\n",
       "      <td>-0.5106</td>\n",
       "      <td>Target Earth</td>\n",
       "      <td>0.126</td>\n",
       "      <td>0.786</td>\n",
       "      <td>0.088</td>\n",
       "    </tr>\n",
       "    <tr>\n",
       "      <th>2</th>\n",
       "      <td>-0.1779</td>\n",
       "      <td>Pirates of Tortuga</td>\n",
       "      <td>0.092</td>\n",
       "      <td>0.825</td>\n",
       "      <td>0.083</td>\n",
       "    </tr>\n",
       "    <tr>\n",
       "      <th>3</th>\n",
       "      <td>0.1154</td>\n",
       "      <td>Girls of the Latin Quarter</td>\n",
       "      <td>0.000</td>\n",
       "      <td>0.861</td>\n",
       "      <td>0.139</td>\n",
       "    </tr>\n",
       "    <tr>\n",
       "      <th>4</th>\n",
       "      <td>-0.7351</td>\n",
       "      <td>The Girl, the Gold Watch &amp; Everything</td>\n",
       "      <td>0.143</td>\n",
       "      <td>0.788</td>\n",
       "      <td>0.069</td>\n",
       "    </tr>\n",
       "    <tr>\n",
       "      <th>5</th>\n",
       "      <td>-0.4588</td>\n",
       "      <td>Gun Fight</td>\n",
       "      <td>0.197</td>\n",
       "      <td>0.657</td>\n",
       "      <td>0.146</td>\n",
       "    </tr>\n",
       "  </tbody>\n",
       "</table>\n",
       "</div>"
      ],
      "text/plain": [
       "   Compound                            Movie Title  Negative  Neutral  \\\n",
       "1   -0.5106                           Target Earth     0.126    0.786   \n",
       "2   -0.1779                     Pirates of Tortuga     0.092    0.825   \n",
       "3    0.1154             Girls of the Latin Quarter     0.000    0.861   \n",
       "4   -0.7351  The Girl, the Gold Watch & Everything     0.143    0.788   \n",
       "5   -0.4588                              Gun Fight     0.197    0.657   \n",
       "\n",
       "   Positive  \n",
       "1     0.088  \n",
       "2     0.083  \n",
       "3     0.139  \n",
       "4     0.069  \n",
       "5     0.146  "
      ]
     },
     "execution_count": 126,
     "metadata": {},
     "output_type": "execute_result"
    }
   ],
   "source": [
    "senti_data_tos = pd.DataFrame(the_data_tos)\n",
    "senti_data_tos.index = range(1,501)\n",
    "senti_data_tos.head()"
   ]
  },
  {
   "cell_type": "code",
   "execution_count": 127,
   "metadata": {},
   "outputs": [
    {
     "data": {
      "image/png": "[encoded data removed]",
      "text/plain": [
       "<matplotlib.figure.Figure at 0x2b20c670198>"
      ]
     },
     "metadata": {},
     "output_type": "display_data"
    }
   ],
   "source": [
    "plt.hist(senti_data_tos['Compound'], normed=True, bins=30, color = 'purple')\n",
    "plt.ylabel('Probability')\n",
    "plt.savefig('senti_data_tos')\n",
    "plt.title('Sentiment Analysis for 500 Star Trek Guest Movies')\n",
    "plt.xlabel('Compound Scores')\n",
    "plt.style.use('seaborn-darkgrid')\n",
    "plt.show()"
   ]
  },
  {
   "cell_type": "code",
   "execution_count": 128,
   "metadata": {},
   "outputs": [
    {
     "data": {
      "text/html": [
       "<div>\n",
       "<style>\n",
       "    .dataframe thead tr:only-child th {\n",
       "        text-align: right;\n",
       "    }\n",
       "\n",
       "    .dataframe thead th {\n",
       "        text-align: left;\n",
       "    }\n",
       "\n",
       "    .dataframe tbody tr th {\n",
       "        vertical-align: top;\n",
       "    }\n",
       "</style>\n",
       "<table border=\"1\" class=\"dataframe\">\n",
       "  <thead>\n",
       "    <tr style=\"text-align: right;\">\n",
       "      <th></th>\n",
       "      <th>Compound</th>\n",
       "      <th>Movie Title</th>\n",
       "      <th>Negative</th>\n",
       "      <th>Neutral</th>\n",
       "      <th>Positive</th>\n",
       "    </tr>\n",
       "  </thead>\n",
       "  <tbody>\n",
       "    <tr>\n",
       "      <th>1</th>\n",
       "      <td>-0.6486</td>\n",
       "      <td>대한민국 1%</td>\n",
       "      <td>0.135</td>\n",
       "      <td>0.777</td>\n",
       "      <td>0.088</td>\n",
       "    </tr>\n",
       "    <tr>\n",
       "      <th>2</th>\n",
       "      <td>-0.1280</td>\n",
       "      <td>Zucchero - Zu and co. - Live at the Royal Albe...</td>\n",
       "      <td>0.045</td>\n",
       "      <td>0.955</td>\n",
       "      <td>0.000</td>\n",
       "    </tr>\n",
       "    <tr>\n",
       "      <th>3</th>\n",
       "      <td>-0.7630</td>\n",
       "      <td>Hidden Agenda</td>\n",
       "      <td>0.204</td>\n",
       "      <td>0.665</td>\n",
       "      <td>0.131</td>\n",
       "    </tr>\n",
       "    <tr>\n",
       "      <th>4</th>\n",
       "      <td>0.9497</td>\n",
       "      <td>Sade Live</td>\n",
       "      <td>0.000</td>\n",
       "      <td>0.823</td>\n",
       "      <td>0.177</td>\n",
       "    </tr>\n",
       "    <tr>\n",
       "      <th>5</th>\n",
       "      <td>0.0000</td>\n",
       "      <td>Moonrunners</td>\n",
       "      <td>0.000</td>\n",
       "      <td>1.000</td>\n",
       "      <td>0.000</td>\n",
       "    </tr>\n",
       "  </tbody>\n",
       "</table>\n",
       "</div>"
      ],
      "text/plain": [
       "   Compound                                        Movie Title  Negative  \\\n",
       "1   -0.6486                                            대한민국 1%     0.135   \n",
       "2   -0.1280  Zucchero - Zu and co. - Live at the Royal Albe...     0.045   \n",
       "3   -0.7630                                      Hidden Agenda     0.204   \n",
       "4    0.9497                                          Sade Live     0.000   \n",
       "5    0.0000                                        Moonrunners     0.000   \n",
       "\n",
       "   Neutral  Positive  \n",
       "1    0.777     0.088  \n",
       "2    0.955     0.000  \n",
       "3    0.665     0.131  \n",
       "4    0.823     0.177  \n",
       "5    1.000     0.000  "
      ]
     },
     "execution_count": 128,
     "metadata": {},
     "output_type": "execute_result"
    }
   ],
   "source": [
    "senti_data_mov.head()"
   ]
  },
  {
   "cell_type": "code",
   "execution_count": 129,
   "metadata": {
    "scrolled": true
   },
   "outputs": [
    {
     "data": {
      "text/html": [
       "<div>\n",
       "<style>\n",
       "    .dataframe thead tr:only-child th {\n",
       "        text-align: right;\n",
       "    }\n",
       "\n",
       "    .dataframe thead th {\n",
       "        text-align: left;\n",
       "    }\n",
       "\n",
       "    .dataframe tbody tr th {\n",
       "        vertical-align: top;\n",
       "    }\n",
       "</style>\n",
       "<table border=\"1\" class=\"dataframe\">\n",
       "  <thead>\n",
       "    <tr style=\"text-align: right;\">\n",
       "      <th></th>\n",
       "      <th>Compound</th>\n",
       "      <th>Movie Title</th>\n",
       "      <th>Negative</th>\n",
       "      <th>Neutral</th>\n",
       "      <th>Positive</th>\n",
       "    </tr>\n",
       "  </thead>\n",
       "  <tbody>\n",
       "    <tr>\n",
       "      <th>1</th>\n",
       "      <td>-0.5106</td>\n",
       "      <td>Target Earth</td>\n",
       "      <td>0.126</td>\n",
       "      <td>0.786</td>\n",
       "      <td>0.088</td>\n",
       "    </tr>\n",
       "    <tr>\n",
       "      <th>2</th>\n",
       "      <td>-0.1779</td>\n",
       "      <td>Pirates of Tortuga</td>\n",
       "      <td>0.092</td>\n",
       "      <td>0.825</td>\n",
       "      <td>0.083</td>\n",
       "    </tr>\n",
       "    <tr>\n",
       "      <th>3</th>\n",
       "      <td>0.1154</td>\n",
       "      <td>Girls of the Latin Quarter</td>\n",
       "      <td>0.000</td>\n",
       "      <td>0.861</td>\n",
       "      <td>0.139</td>\n",
       "    </tr>\n",
       "    <tr>\n",
       "      <th>4</th>\n",
       "      <td>-0.7351</td>\n",
       "      <td>The Girl, the Gold Watch &amp; Everything</td>\n",
       "      <td>0.143</td>\n",
       "      <td>0.788</td>\n",
       "      <td>0.069</td>\n",
       "    </tr>\n",
       "    <tr>\n",
       "      <th>5</th>\n",
       "      <td>-0.4588</td>\n",
       "      <td>Gun Fight</td>\n",
       "      <td>0.197</td>\n",
       "      <td>0.657</td>\n",
       "      <td>0.146</td>\n",
       "    </tr>\n",
       "  </tbody>\n",
       "</table>\n",
       "</div>"
      ],
      "text/plain": [
       "   Compound                            Movie Title  Negative  Neutral  \\\n",
       "1   -0.5106                           Target Earth     0.126    0.786   \n",
       "2   -0.1779                     Pirates of Tortuga     0.092    0.825   \n",
       "3    0.1154             Girls of the Latin Quarter     0.000    0.861   \n",
       "4   -0.7351  The Girl, the Gold Watch & Everything     0.143    0.788   \n",
       "5   -0.4588                              Gun Fight     0.197    0.657   \n",
       "\n",
       "   Positive  \n",
       "1     0.088  \n",
       "2     0.083  \n",
       "3     0.139  \n",
       "4     0.069  \n",
       "5     0.146  "
      ]
     },
     "execution_count": 129,
     "metadata": {},
     "output_type": "execute_result"
    }
   ],
   "source": [
    "senti_data_tos.head()"
   ]
  },
  {
   "cell_type": "code",
   "execution_count": 130,
   "metadata": {
    "collapsed": true
   },
   "outputs": [],
   "source": [
    "frames = [senti_data_mov, senti_data_tos]\n",
    "big_data = pd.concat(frames)"
   ]
  },
  {
   "cell_type": "code",
   "execution_count": null,
   "metadata": {
    "collapsed": true
   },
   "outputs": [],
   "source": []
  },
  {
   "cell_type": "code",
   "execution_count": 153,
   "metadata": {},
   "outputs": [
    {
     "data": {
      "image/png": "[encoded data removed]",
      "text/plain": [
       "<matplotlib.figure.Figure at 0x2b20d603cf8>"
      ]
     },
     "metadata": {},
     "output_type": "display_data"
    }
   ],
   "source": [
    "x = senti_data_mov['Compound']\n",
    "y = senti_data_tos['Compound']\n",
    "\n",
    "plt.scatter(x,y)\n",
    "plt.show()"
   ]
  },
  {
   "cell_type": "code",
   "execution_count": 154,
   "metadata": {},
   "outputs": [],
   "source": [
    "fig, ax = plt.subplots()\n",
    "for bandwidth in [0.1, 0.3, 1.0]:\n",
    "    ax.plot(senti_data_mov['Compound'], kde_sklearn(x, senti_data_mov['Compound'], bandwidth=bandwidth),\n",
    "            label='bw={0}'.format(bandwidth), linewidth=3, alpha=0.5)"
   ]
  },
  {
   "cell_type": "code",
   "execution_count": null,
   "metadata": {},
   "outputs": [],
   "source": []
  },
  {
   "cell_type": "code",
   "execution_count": null,
   "metadata": {
    "collapsed": true
   },
   "outputs": [],
   "source": []
  }
 ],
 "metadata": {
  "kernelspec": {
   "display_name": "Python 3",
   "language": "python",
   "name": "python3"
  },
  "language_info": {
   "codemirror_mode": {
    "name": "ipython",
    "version": 3
   },
   "file_extension": ".py",
   "mimetype": "text/x-python",
   "name": "python",
   "nbconvert_exporter": "python",
   "pygments_lexer": "ipython3",
   "version": "3.6.2"
  }
 },
 "nbformat": 4,
 "nbformat_minor": 2
}
