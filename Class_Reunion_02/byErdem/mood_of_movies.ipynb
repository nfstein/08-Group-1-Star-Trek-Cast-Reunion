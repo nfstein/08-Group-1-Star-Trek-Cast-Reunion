{
 "cells": [
  {
   "cell_type": "markdown",
   "metadata": {},
   "source": [
    "# MOOD COMPARISION GENERAL MOVIES VS STAR TREK GUEST STAR MOVIES\n",
    "\n",
    "Sentiments Analysis is done based on the movies descriptions. \n",
    "500 random General Movies vs 500 randomly selected movies that star trek guest actors appeared. "
   ]
  },
  {
   "cell_type": "code",
   "execution_count": 40,
   "metadata": {},
   "outputs": [],
   "source": [
    "# Import Needy Files\n",
    "\n",
    "import json\n",
    "import sample_data as MOV\n",
    "import star_trek_tos_data as TOS\n",
    "import pandas as pd\n",
    "import matplotlib.pyplot as plt\n",
    "import numpy as np\n",
    "import seaborn as sns\n",
    "from datetime import datetime\n",
    "import scipy.stats as stats\n",
    "import scipy\n",
    "import plotly.plotly as py\n",
    "import seaborn as sns\n",
    "\n",
    "import plotly.graph_objs as go\n",
    "from plotly.tools import FigureFactory as FF\n",
    "\n",
    "\n",
    "from vaderSentiment.vaderSentiment import SentimentIntensityAnalyzer\n",
    "analyzer = SentimentIntensityAnalyzer()"
   ]
  },
  {
   "cell_type": "code",
   "execution_count": 2,
   "metadata": {
    "collapsed": true
   },
   "outputs": [],
   "source": [
    "# Load General Movie Names and Movie Description\n",
    "\n",
    "description_mov = []\n",
    "title_mov = []\n",
    "\n",
    "for movie_id in MOV.sample_movies:\n",
    "    movie_dat = MOV.sample_movies[movie_id]\n",
    "    \n",
    "    # print(json.dumps(movie_dat['adult'], indent = 4, sort_keys = True))\n",
    "    \n",
    "    try:\n",
    "        description_mov.append(movie_dat['overview'])\n",
    "        title_mov.append(movie_dat['original_title'])\n",
    "        # guest_name.append(movie_dat['guest_names'])\n",
    "    \n",
    "    except KeyError:\n",
    "        print('Error')"
   ]
  },
  {
   "cell_type": "code",
   "execution_count": 3,
   "metadata": {
    "collapsed": true,
    "scrolled": false
   },
   "outputs": [],
   "source": [
    "df_mov = pd.DataFrame({'Movie Title': title_mov,\n",
    "                  'Description': description_mov,\n",
    "                  })"
   ]
  },
  {
   "cell_type": "code",
   "execution_count": 4,
   "metadata": {
    "collapsed": true
   },
   "outputs": [],
   "source": [
    "sentiments_mov = {}\n",
    "\n",
    "compound = []\n",
    "positive = []\n",
    "negative = []\n",
    "neutral = []\n",
    "    \n",
    "for text in df_mov['Description']:\n",
    "    \n",
    "    results = analyzer.polarity_scores(text)\n",
    "    com = results[\"compound\"]\n",
    "    pos = results[\"pos\"]\n",
    "    neg = results[\"neg\"]\n",
    "    neu = results[\"neu\"]\n",
    "            \n",
    "    compound.append(com)\n",
    "    positive.append(pos)\n",
    "    negative.append(neg)\n",
    "    neutral.append(neu)\n",
    "    \n",
    "sentiments_mov=(compound, positive, negative, neutral)"
   ]
  },
  {
   "cell_type": "code",
   "execution_count": 5,
   "metadata": {
    "collapsed": true
   },
   "outputs": [],
   "source": [
    "the_data_mov = {'Compound': sentiments_mov[0],\n",
    "           'Positive': sentiments_mov[1],\n",
    "           'Negative': sentiments_mov[2],\n",
    "           'Neutral': sentiments_mov[3],\n",
    "            'Movie Title': title_mov,\n",
    "               }"
   ]
  },
  {
   "cell_type": "code",
   "execution_count": 6,
   "metadata": {
    "scrolled": true
   },
   "outputs": [
    {
     "data": {
      "text/html": [
       "<div>\n",
       "<style>\n",
       "    .dataframe thead tr:only-child th {\n",
       "        text-align: right;\n",
       "    }\n",
       "\n",
       "    .dataframe thead th {\n",
       "        text-align: left;\n",
       "    }\n",
       "\n",
       "    .dataframe tbody tr th {\n",
       "        vertical-align: top;\n",
       "    }\n",
       "</style>\n",
       "<table border=\"1\" class=\"dataframe\">\n",
       "  <thead>\n",
       "    <tr style=\"text-align: right;\">\n",
       "      <th></th>\n",
       "      <th>Compound</th>\n",
       "      <th>Movie Title</th>\n",
       "      <th>Negative</th>\n",
       "      <th>Neutral</th>\n",
       "      <th>Positive</th>\n",
       "    </tr>\n",
       "  </thead>\n",
       "  <tbody>\n",
       "    <tr>\n",
       "      <th>1</th>\n",
       "      <td>-0.6486</td>\n",
       "      <td>대한민국 1%</td>\n",
       "      <td>0.135</td>\n",
       "      <td>0.777</td>\n",
       "      <td>0.088</td>\n",
       "    </tr>\n",
       "    <tr>\n",
       "      <th>2</th>\n",
       "      <td>-0.1280</td>\n",
       "      <td>Zucchero - Zu and co. - Live at the Royal Albe...</td>\n",
       "      <td>0.045</td>\n",
       "      <td>0.955</td>\n",
       "      <td>0.000</td>\n",
       "    </tr>\n",
       "    <tr>\n",
       "      <th>3</th>\n",
       "      <td>-0.7630</td>\n",
       "      <td>Hidden Agenda</td>\n",
       "      <td>0.204</td>\n",
       "      <td>0.665</td>\n",
       "      <td>0.131</td>\n",
       "    </tr>\n",
       "    <tr>\n",
       "      <th>4</th>\n",
       "      <td>0.9497</td>\n",
       "      <td>Sade Live</td>\n",
       "      <td>0.000</td>\n",
       "      <td>0.823</td>\n",
       "      <td>0.177</td>\n",
       "    </tr>\n",
       "    <tr>\n",
       "      <th>5</th>\n",
       "      <td>0.0000</td>\n",
       "      <td>Moonrunners</td>\n",
       "      <td>0.000</td>\n",
       "      <td>1.000</td>\n",
       "      <td>0.000</td>\n",
       "    </tr>\n",
       "  </tbody>\n",
       "</table>\n",
       "</div>"
      ],
      "text/plain": [
       "   Compound                                        Movie Title  Negative  \\\n",
       "1   -0.6486                                            대한민국 1%     0.135   \n",
       "2   -0.1280  Zucchero - Zu and co. - Live at the Royal Albe...     0.045   \n",
       "3   -0.7630                                      Hidden Agenda     0.204   \n",
       "4    0.9497                                          Sade Live     0.000   \n",
       "5    0.0000                                        Moonrunners     0.000   \n",
       "\n",
       "   Neutral  Positive  \n",
       "1    0.777     0.088  \n",
       "2    0.955     0.000  \n",
       "3    0.665     0.131  \n",
       "4    0.823     0.177  \n",
       "5    1.000     0.000  "
      ]
     },
     "execution_count": 6,
     "metadata": {},
     "output_type": "execute_result"
    }
   ],
   "source": [
    "senti_data_mov = pd.DataFrame(the_data_mov)\n",
    "senti_data_mov.index = range(1,501)\n",
    "senti_data_mov.head()"
   ]
  },
  {
   "cell_type": "code",
   "execution_count": 43,
   "metadata": {},
   "outputs": [
    {
     "data": {
      "image/png": "[encoded data removed]",
      "text/plain": [
       "<matplotlib.figure.Figure at 0x23020451470>"
      ]
     },
     "metadata": {},
     "output_type": "display_data"
    }
   ],
   "source": [
    "plt.hist(senti_data_mov['Compound'], normed=True, bins=30, color = 'orange')\n",
    "plt.ylabel('Probability')\n",
    "plt.title('Sentiment Analysis for 500 Ramdom General Movies')\n",
    "plt.xlabel('Compound Scores')\n",
    "plt.style.use('seaborn-darkgrid')\n",
    "plt.savefig('senti_data_mov', bbox_inches=\"tight\")\n",
    "plt.show()"
   ]
  },
  {
   "cell_type": "code",
   "execution_count": 8,
   "metadata": {},
   "outputs": [
    {
     "name": "stdout",
     "output_type": "stream",
     "text": [
      "Error\n"
     ]
    }
   ],
   "source": [
    "# Load Star Trek Movie Names and Moive Description\n",
    "\n",
    "description_tos = []\n",
    "title_tos = []\n",
    "\n",
    "for movie_id in TOS.guest_movies:\n",
    "    movie_dat = TOS.guest_movies[movie_id]\n",
    "    \n",
    "    # print(json.dumps(movie_dat['adult'], indent = 4, sort_keys = True))\n",
    "    \n",
    "    try:\n",
    "        description_tos.append(movie_dat['overview'])\n",
    "        title_tos.append(movie_dat['original_title'])\n",
    "        # guest_name.append(movie_dat['guest_names'])\n",
    "    \n",
    "    except KeyError:\n",
    "        print('Error')"
   ]
  },
  {
   "cell_type": "code",
   "execution_count": 9,
   "metadata": {
    "collapsed": true,
    "scrolled": true
   },
   "outputs": [],
   "source": [
    "df_tos = pd.DataFrame({'Movie Title': title_tos,\n",
    "                  'Description': description_tos,\n",
    "                  })"
   ]
  },
  {
   "cell_type": "code",
   "execution_count": 10,
   "metadata": {
    "collapsed": true
   },
   "outputs": [],
   "source": [
    "# Select Random 500 samples from df_TOS data frame\n",
    "\n",
    "df_tos = df_tos.sample(500)"
   ]
  },
  {
   "cell_type": "code",
   "execution_count": 11,
   "metadata": {
    "collapsed": true
   },
   "outputs": [],
   "source": [
    "sentiments_tos = {}\n",
    "\n",
    "compound = []\n",
    "positive = []\n",
    "negative = []\n",
    "neutral = []\n",
    "    \n",
    "for text in df_tos['Description']:\n",
    "    \n",
    "    results = analyzer.polarity_scores(text)\n",
    "    com = results[\"compound\"]\n",
    "    pos = results[\"pos\"]\n",
    "    neg = results[\"neg\"]\n",
    "    neu = results[\"neu\"]\n",
    "            \n",
    "    compound.append(com)\n",
    "    positive.append(pos)\n",
    "    negative.append(neg)\n",
    "    neutral.append(neu)\n",
    "    \n",
    "sentiments_tos=(compound, positive, negative, neutral)"
   ]
  },
  {
   "cell_type": "code",
   "execution_count": 12,
   "metadata": {
    "collapsed": true
   },
   "outputs": [],
   "source": [
    "the_data_tos = {'Compound': sentiments_tos[0],\n",
    "           'Positive': sentiments_tos[1],\n",
    "           'Negative': sentiments_tos[2],\n",
    "           'Neutral': sentiments_tos[3],\n",
    "            'Movie Title': df_tos['Movie Title'],\n",
    "               }"
   ]
  },
  {
   "cell_type": "code",
   "execution_count": 13,
   "metadata": {},
   "outputs": [
    {
     "data": {
      "text/html": [
       "<div>\n",
       "<style>\n",
       "    .dataframe thead tr:only-child th {\n",
       "        text-align: right;\n",
       "    }\n",
       "\n",
       "    .dataframe thead th {\n",
       "        text-align: left;\n",
       "    }\n",
       "\n",
       "    .dataframe tbody tr th {\n",
       "        vertical-align: top;\n",
       "    }\n",
       "</style>\n",
       "<table border=\"1\" class=\"dataframe\">\n",
       "  <thead>\n",
       "    <tr style=\"text-align: right;\">\n",
       "      <th></th>\n",
       "      <th>Compound</th>\n",
       "      <th>Movie Title</th>\n",
       "      <th>Negative</th>\n",
       "      <th>Neutral</th>\n",
       "      <th>Positive</th>\n",
       "    </tr>\n",
       "  </thead>\n",
       "  <tbody>\n",
       "    <tr>\n",
       "      <th>1</th>\n",
       "      <td>-0.4215</td>\n",
       "      <td>The Snows of Kilimanjaro</td>\n",
       "      <td>0.113</td>\n",
       "      <td>0.887</td>\n",
       "      <td>0.000</td>\n",
       "    </tr>\n",
       "    <tr>\n",
       "      <th>2</th>\n",
       "      <td>-0.5267</td>\n",
       "      <td>The Helicopter Spies</td>\n",
       "      <td>0.268</td>\n",
       "      <td>0.732</td>\n",
       "      <td>0.000</td>\n",
       "    </tr>\n",
       "    <tr>\n",
       "      <th>3</th>\n",
       "      <td>-0.6902</td>\n",
       "      <td>Don't You Believe It</td>\n",
       "      <td>0.110</td>\n",
       "      <td>0.890</td>\n",
       "      <td>0.000</td>\n",
       "    </tr>\n",
       "    <tr>\n",
       "      <th>4</th>\n",
       "      <td>-0.0387</td>\n",
       "      <td>Halls of Anger</td>\n",
       "      <td>0.114</td>\n",
       "      <td>0.800</td>\n",
       "      <td>0.086</td>\n",
       "    </tr>\n",
       "    <tr>\n",
       "      <th>5</th>\n",
       "      <td>0.0000</td>\n",
       "      <td>Paranormal Extremes: Text Messages from the Dead</td>\n",
       "      <td>0.000</td>\n",
       "      <td>1.000</td>\n",
       "      <td>0.000</td>\n",
       "    </tr>\n",
       "  </tbody>\n",
       "</table>\n",
       "</div>"
      ],
      "text/plain": [
       "   Compound                                       Movie Title  Negative  \\\n",
       "1   -0.4215                          The Snows of Kilimanjaro     0.113   \n",
       "2   -0.5267                              The Helicopter Spies     0.268   \n",
       "3   -0.6902                              Don't You Believe It     0.110   \n",
       "4   -0.0387                                    Halls of Anger     0.114   \n",
       "5    0.0000  Paranormal Extremes: Text Messages from the Dead     0.000   \n",
       "\n",
       "   Neutral  Positive  \n",
       "1    0.887     0.000  \n",
       "2    0.732     0.000  \n",
       "3    0.890     0.000  \n",
       "4    0.800     0.086  \n",
       "5    1.000     0.000  "
      ]
     },
     "execution_count": 13,
     "metadata": {},
     "output_type": "execute_result"
    }
   ],
   "source": [
    "senti_data_tos = pd.DataFrame(the_data_tos)\n",
    "senti_data_tos.index = range(1,501)\n",
    "senti_data_tos.head()"
   ]
  },
  {
   "cell_type": "code",
   "execution_count": 42,
   "metadata": {},
   "outputs": [
    {
     "data": {
      "image/png": "[encoded data removed]",
      "text/plain": [
       "<matplotlib.figure.Figure at 0x2302019aba8>"
      ]
     },
     "metadata": {},
     "output_type": "display_data"
    }
   ],
   "source": [
    "plt.hist(senti_data_tos['Compound'], normed=True, bins=30, color = 'purple')\n",
    "plt.ylabel('Probability')\n",
    "plt.title('Sentiment Analysis for 500 Random Star Trek Guest Movies')\n",
    "plt.xlabel('Compound Scores')\n",
    "plt.style.use('seaborn-darkgrid')\n",
    "plt.savefig(f'senti_data_tos', bbox_inches=\"tight\")\n",
    "plt.show()"
   ]
  },
  {
   "cell_type": "code",
   "execution_count": 15,
   "metadata": {
    "scrolled": true
   },
   "outputs": [
    {
     "data": {
      "text/html": [
       "<div>\n",
       "<style>\n",
       "    .dataframe thead tr:only-child th {\n",
       "        text-align: right;\n",
       "    }\n",
       "\n",
       "    .dataframe thead th {\n",
       "        text-align: left;\n",
       "    }\n",
       "\n",
       "    .dataframe tbody tr th {\n",
       "        vertical-align: top;\n",
       "    }\n",
       "</style>\n",
       "<table border=\"1\" class=\"dataframe\">\n",
       "  <thead>\n",
       "    <tr style=\"text-align: right;\">\n",
       "      <th></th>\n",
       "      <th>Compound</th>\n",
       "      <th>Movie Title</th>\n",
       "      <th>Negative</th>\n",
       "      <th>Neutral</th>\n",
       "      <th>Positive</th>\n",
       "    </tr>\n",
       "  </thead>\n",
       "  <tbody>\n",
       "    <tr>\n",
       "      <th>1</th>\n",
       "      <td>-0.6486</td>\n",
       "      <td>대한민국 1%</td>\n",
       "      <td>0.135</td>\n",
       "      <td>0.777</td>\n",
       "      <td>0.088</td>\n",
       "    </tr>\n",
       "    <tr>\n",
       "      <th>2</th>\n",
       "      <td>-0.1280</td>\n",
       "      <td>Zucchero - Zu and co. - Live at the Royal Albe...</td>\n",
       "      <td>0.045</td>\n",
       "      <td>0.955</td>\n",
       "      <td>0.000</td>\n",
       "    </tr>\n",
       "    <tr>\n",
       "      <th>3</th>\n",
       "      <td>-0.7630</td>\n",
       "      <td>Hidden Agenda</td>\n",
       "      <td>0.204</td>\n",
       "      <td>0.665</td>\n",
       "      <td>0.131</td>\n",
       "    </tr>\n",
       "    <tr>\n",
       "      <th>4</th>\n",
       "      <td>0.9497</td>\n",
       "      <td>Sade Live</td>\n",
       "      <td>0.000</td>\n",
       "      <td>0.823</td>\n",
       "      <td>0.177</td>\n",
       "    </tr>\n",
       "    <tr>\n",
       "      <th>5</th>\n",
       "      <td>0.0000</td>\n",
       "      <td>Moonrunners</td>\n",
       "      <td>0.000</td>\n",
       "      <td>1.000</td>\n",
       "      <td>0.000</td>\n",
       "    </tr>\n",
       "  </tbody>\n",
       "</table>\n",
       "</div>"
      ],
      "text/plain": [
       "   Compound                                        Movie Title  Negative  \\\n",
       "1   -0.6486                                            대한민국 1%     0.135   \n",
       "2   -0.1280  Zucchero - Zu and co. - Live at the Royal Albe...     0.045   \n",
       "3   -0.7630                                      Hidden Agenda     0.204   \n",
       "4    0.9497                                          Sade Live     0.000   \n",
       "5    0.0000                                        Moonrunners     0.000   \n",
       "\n",
       "   Neutral  Positive  \n",
       "1    0.777     0.088  \n",
       "2    0.955     0.000  \n",
       "3    0.665     0.131  \n",
       "4    0.823     0.177  \n",
       "5    1.000     0.000  "
      ]
     },
     "execution_count": 15,
     "metadata": {},
     "output_type": "execute_result"
    }
   ],
   "source": [
    "senti_data_mov.head()"
   ]
  },
  {
   "cell_type": "code",
   "execution_count": 16,
   "metadata": {},
   "outputs": [
    {
     "data": {
      "text/html": [
       "<div>\n",
       "<style>\n",
       "    .dataframe thead tr:only-child th {\n",
       "        text-align: right;\n",
       "    }\n",
       "\n",
       "    .dataframe thead th {\n",
       "        text-align: left;\n",
       "    }\n",
       "\n",
       "    .dataframe tbody tr th {\n",
       "        vertical-align: top;\n",
       "    }\n",
       "</style>\n",
       "<table border=\"1\" class=\"dataframe\">\n",
       "  <thead>\n",
       "    <tr style=\"text-align: right;\">\n",
       "      <th></th>\n",
       "      <th>Compound</th>\n",
       "      <th>Negative</th>\n",
       "      <th>Neutral</th>\n",
       "      <th>Positive</th>\n",
       "    </tr>\n",
       "  </thead>\n",
       "  <tbody>\n",
       "    <tr>\n",
       "      <th>count</th>\n",
       "      <td>500.000000</td>\n",
       "      <td>500.000000</td>\n",
       "      <td>500.000000</td>\n",
       "      <td>500.00000</td>\n",
       "    </tr>\n",
       "    <tr>\n",
       "      <th>mean</th>\n",
       "      <td>-0.026846</td>\n",
       "      <td>0.113666</td>\n",
       "      <td>0.725972</td>\n",
       "      <td>0.09035</td>\n",
       "    </tr>\n",
       "    <tr>\n",
       "      <th>std</th>\n",
       "      <td>0.634027</td>\n",
       "      <td>0.119542</td>\n",
       "      <td>0.231407</td>\n",
       "      <td>0.08873</td>\n",
       "    </tr>\n",
       "    <tr>\n",
       "      <th>min</th>\n",
       "      <td>-0.994100</td>\n",
       "      <td>0.000000</td>\n",
       "      <td>0.000000</td>\n",
       "      <td>0.00000</td>\n",
       "    </tr>\n",
       "    <tr>\n",
       "      <th>25%</th>\n",
       "      <td>-0.612400</td>\n",
       "      <td>0.000000</td>\n",
       "      <td>0.682750</td>\n",
       "      <td>0.00000</td>\n",
       "    </tr>\n",
       "    <tr>\n",
       "      <th>50%</th>\n",
       "      <td>0.000000</td>\n",
       "      <td>0.084000</td>\n",
       "      <td>0.768500</td>\n",
       "      <td>0.07900</td>\n",
       "    </tr>\n",
       "    <tr>\n",
       "      <th>75%</th>\n",
       "      <td>0.560275</td>\n",
       "      <td>0.168000</td>\n",
       "      <td>0.857000</td>\n",
       "      <td>0.14225</td>\n",
       "    </tr>\n",
       "    <tr>\n",
       "      <th>max</th>\n",
       "      <td>0.994800</td>\n",
       "      <td>0.688000</td>\n",
       "      <td>1.000000</td>\n",
       "      <td>0.45500</td>\n",
       "    </tr>\n",
       "  </tbody>\n",
       "</table>\n",
       "</div>"
      ],
      "text/plain": [
       "         Compound    Negative     Neutral   Positive\n",
       "count  500.000000  500.000000  500.000000  500.00000\n",
       "mean    -0.026846    0.113666    0.725972    0.09035\n",
       "std      0.634027    0.119542    0.231407    0.08873\n",
       "min     -0.994100    0.000000    0.000000    0.00000\n",
       "25%     -0.612400    0.000000    0.682750    0.00000\n",
       "50%      0.000000    0.084000    0.768500    0.07900\n",
       "75%      0.560275    0.168000    0.857000    0.14225\n",
       "max      0.994800    0.688000    1.000000    0.45500"
      ]
     },
     "execution_count": 16,
     "metadata": {},
     "output_type": "execute_result"
    }
   ],
   "source": [
    "senti_data_mov.describe()"
   ]
  },
  {
   "cell_type": "code",
   "execution_count": 17,
   "metadata": {
    "scrolled": false
   },
   "outputs": [
    {
     "data": {
      "text/html": [
       "<div>\n",
       "<style>\n",
       "    .dataframe thead tr:only-child th {\n",
       "        text-align: right;\n",
       "    }\n",
       "\n",
       "    .dataframe thead th {\n",
       "        text-align: left;\n",
       "    }\n",
       "\n",
       "    .dataframe tbody tr th {\n",
       "        vertical-align: top;\n",
       "    }\n",
       "</style>\n",
       "<table border=\"1\" class=\"dataframe\">\n",
       "  <thead>\n",
       "    <tr style=\"text-align: right;\">\n",
       "      <th></th>\n",
       "      <th>Compound</th>\n",
       "      <th>Movie Title</th>\n",
       "      <th>Negative</th>\n",
       "      <th>Neutral</th>\n",
       "      <th>Positive</th>\n",
       "    </tr>\n",
       "  </thead>\n",
       "  <tbody>\n",
       "    <tr>\n",
       "      <th>1</th>\n",
       "      <td>-0.4215</td>\n",
       "      <td>The Snows of Kilimanjaro</td>\n",
       "      <td>0.113</td>\n",
       "      <td>0.887</td>\n",
       "      <td>0.000</td>\n",
       "    </tr>\n",
       "    <tr>\n",
       "      <th>2</th>\n",
       "      <td>-0.5267</td>\n",
       "      <td>The Helicopter Spies</td>\n",
       "      <td>0.268</td>\n",
       "      <td>0.732</td>\n",
       "      <td>0.000</td>\n",
       "    </tr>\n",
       "    <tr>\n",
       "      <th>3</th>\n",
       "      <td>-0.6902</td>\n",
       "      <td>Don't You Believe It</td>\n",
       "      <td>0.110</td>\n",
       "      <td>0.890</td>\n",
       "      <td>0.000</td>\n",
       "    </tr>\n",
       "    <tr>\n",
       "      <th>4</th>\n",
       "      <td>-0.0387</td>\n",
       "      <td>Halls of Anger</td>\n",
       "      <td>0.114</td>\n",
       "      <td>0.800</td>\n",
       "      <td>0.086</td>\n",
       "    </tr>\n",
       "    <tr>\n",
       "      <th>5</th>\n",
       "      <td>0.0000</td>\n",
       "      <td>Paranormal Extremes: Text Messages from the Dead</td>\n",
       "      <td>0.000</td>\n",
       "      <td>1.000</td>\n",
       "      <td>0.000</td>\n",
       "    </tr>\n",
       "  </tbody>\n",
       "</table>\n",
       "</div>"
      ],
      "text/plain": [
       "   Compound                                       Movie Title  Negative  \\\n",
       "1   -0.4215                          The Snows of Kilimanjaro     0.113   \n",
       "2   -0.5267                              The Helicopter Spies     0.268   \n",
       "3   -0.6902                              Don't You Believe It     0.110   \n",
       "4   -0.0387                                    Halls of Anger     0.114   \n",
       "5    0.0000  Paranormal Extremes: Text Messages from the Dead     0.000   \n",
       "\n",
       "   Neutral  Positive  \n",
       "1    0.887     0.000  \n",
       "2    0.732     0.000  \n",
       "3    0.890     0.000  \n",
       "4    0.800     0.086  \n",
       "5    1.000     0.000  "
      ]
     },
     "execution_count": 17,
     "metadata": {},
     "output_type": "execute_result"
    }
   ],
   "source": [
    "senti_data_tos.head()"
   ]
  },
  {
   "cell_type": "code",
   "execution_count": 18,
   "metadata": {},
   "outputs": [
    {
     "data": {
      "text/html": [
       "<div>\n",
       "<style>\n",
       "    .dataframe thead tr:only-child th {\n",
       "        text-align: right;\n",
       "    }\n",
       "\n",
       "    .dataframe thead th {\n",
       "        text-align: left;\n",
       "    }\n",
       "\n",
       "    .dataframe tbody tr th {\n",
       "        vertical-align: top;\n",
       "    }\n",
       "</style>\n",
       "<table border=\"1\" class=\"dataframe\">\n",
       "  <thead>\n",
       "    <tr style=\"text-align: right;\">\n",
       "      <th></th>\n",
       "      <th>Compound</th>\n",
       "      <th>Movie Title</th>\n",
       "      <th>Negative</th>\n",
       "      <th>Neutral</th>\n",
       "      <th>Positive</th>\n",
       "    </tr>\n",
       "  </thead>\n",
       "  <tbody>\n",
       "    <tr>\n",
       "      <th>1</th>\n",
       "      <td>-0.4215</td>\n",
       "      <td>The Snows of Kilimanjaro</td>\n",
       "      <td>0.113</td>\n",
       "      <td>0.887</td>\n",
       "      <td>0.000</td>\n",
       "    </tr>\n",
       "    <tr>\n",
       "      <th>2</th>\n",
       "      <td>-0.5267</td>\n",
       "      <td>The Helicopter Spies</td>\n",
       "      <td>0.268</td>\n",
       "      <td>0.732</td>\n",
       "      <td>0.000</td>\n",
       "    </tr>\n",
       "    <tr>\n",
       "      <th>3</th>\n",
       "      <td>-0.6902</td>\n",
       "      <td>Don't You Believe It</td>\n",
       "      <td>0.110</td>\n",
       "      <td>0.890</td>\n",
       "      <td>0.000</td>\n",
       "    </tr>\n",
       "    <tr>\n",
       "      <th>4</th>\n",
       "      <td>-0.0387</td>\n",
       "      <td>Halls of Anger</td>\n",
       "      <td>0.114</td>\n",
       "      <td>0.800</td>\n",
       "      <td>0.086</td>\n",
       "    </tr>\n",
       "    <tr>\n",
       "      <th>5</th>\n",
       "      <td>0.0000</td>\n",
       "      <td>Paranormal Extremes: Text Messages from the Dead</td>\n",
       "      <td>0.000</td>\n",
       "      <td>1.000</td>\n",
       "      <td>0.000</td>\n",
       "    </tr>\n",
       "  </tbody>\n",
       "</table>\n",
       "</div>"
      ],
      "text/plain": [
       "   Compound                                       Movie Title  Negative  \\\n",
       "1   -0.4215                          The Snows of Kilimanjaro     0.113   \n",
       "2   -0.5267                              The Helicopter Spies     0.268   \n",
       "3   -0.6902                              Don't You Believe It     0.110   \n",
       "4   -0.0387                                    Halls of Anger     0.114   \n",
       "5    0.0000  Paranormal Extremes: Text Messages from the Dead     0.000   \n",
       "\n",
       "   Neutral  Positive  \n",
       "1    0.887     0.000  \n",
       "2    0.732     0.000  \n",
       "3    0.890     0.000  \n",
       "4    0.800     0.086  \n",
       "5    1.000     0.000  "
      ]
     },
     "execution_count": 18,
     "metadata": {},
     "output_type": "execute_result"
    }
   ],
   "source": [
    "senti_data_tos.head()"
   ]
  },
  {
   "cell_type": "code",
   "execution_count": 19,
   "metadata": {
    "collapsed": true
   },
   "outputs": [],
   "source": [
    "frames = [senti_data_mov, senti_data_tos]\n",
    "big_data = pd.concat(frames)"
   ]
  },
  {
   "cell_type": "markdown",
   "metadata": {},
   "source": [
    "## Hypothesis Testing (P-value approach)"
   ]
  },
  {
   "cell_type": "code",
   "execution_count": null,
   "metadata": {
    "collapsed": true
   },
   "outputs": [],
   "source": []
  },
  {
   "cell_type": "code",
   "execution_count": 44,
   "metadata": {},
   "outputs": [
    {
     "data": {
      "text/plain": [
       "Ttest_indResult(statistic=-3.2023342905097638, pvalue=0.0014064292116908134)"
      ]
     },
     "execution_count": 44,
     "metadata": {},
     "output_type": "execute_result"
    }
   ],
   "source": [
    "x_data = senti_data_tos['Compound']\n",
    "y_data = senti_data_mov['Compound']\n",
    "\n",
    "stats.ttest_ind(x, y, equal_var = False)"
   ]
  },
  {
   "cell_type": "code",
   "execution_count": null,
   "metadata": {
    "collapsed": true
   },
   "outputs": [],
   "source": []
  },
  {
   "cell_type": "code",
   "execution_count": null,
   "metadata": {},
   "outputs": [],
   "source": []
  },
  {
   "cell_type": "code",
   "execution_count": null,
   "metadata": {
    "collapsed": true
   },
   "outputs": [],
   "source": []
  }
 ],
 "metadata": {
  "kernelspec": {
   "display_name": "Python 3",
   "language": "python",
   "name": "python3"
  },
  "language_info": {
   "codemirror_mode": {
    "name": "ipython",
    "version": 3
   },
   "file_extension": ".py",
   "mimetype": "text/x-python",
   "name": "python",
   "nbconvert_exporter": "python",
   "pygments_lexer": "ipython3",
   "version": "3.6.2"
  }
 },
 "nbformat": 4,
 "nbformat_minor": 2
}
