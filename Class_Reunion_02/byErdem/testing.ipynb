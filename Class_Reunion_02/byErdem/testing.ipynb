{
 "cells": [
  {
   "cell_type": "markdown",
   "metadata": {},
   "source": [
    "# The Goal\n",
    "Display all the pictures and save them in a file"
   ]
  },
  {
   "cell_type": "code",
   "execution_count": 27,
   "metadata": {
    "collapsed": true
   },
   "outputs": [],
   "source": [
    "import urllib.request\n",
    "import PIL\n",
    "from PIL import Image\n",
    "import requests as req"
   ]
  },
  {
   "cell_type": "code",
   "execution_count": 21,
   "metadata": {
    "collapsed": true
   },
   "outputs": [],
   "source": [
    "url2 = ['https://image.tmdb.org/t/p/w500//2YeGZ3SmtMZS8jjvvYAcdQVj6rI.jpg',\n",
    " 'https://image.tmdb.org/t/p/w500//KIXl4ATvrBUmMmKc6f18p7akes.jpg',\n",
    " 'https://image.tmdb.org/t/p/w500//pnMzSsCrrR3LBw8ZqYCDBwoBHER.jpg',\n",
    " 'https://image.tmdb.org/t/p/w500//kV0wiMw24cgac7BqcppgkmUSGIw.jpg',\n",
    "]"
   ]
  },
  {
   "cell_type": "code",
   "execution_count": 25,
   "metadata": {
    "scrolled": true
   },
   "outputs": [
    {
     "name": "stdout",
     "output_type": "stream",
     "text": [
      "<PIL.JpegImagePlugin.JpegImageFile image mode=RGB size=30x16 at 0x1545680BB00>\n",
      "<PIL.JpegImagePlugin.JpegImageFile image mode=RGB size=30x16 at 0x1545680BFD0>\n",
      "<PIL.JpegImagePlugin.JpegImageFile image mode=RGB size=30x16 at 0x1545680B0B8>\n",
      "<PIL.JpegImagePlugin.JpegImageFile image mode=RGB size=30x16 at 0x1545680BCF8>\n",
      "<PIL.JpegImagePlugin.JpegImageFile image mode=RGB size=30x16 at 0x1545680BFD0>\n",
      "<PIL.JpegImagePlugin.JpegImageFile image mode=RGB size=30x16 at 0x1545680B3C8>\n",
      "<PIL.JpegImagePlugin.JpegImageFile image mode=RGB size=30x16 at 0x1545680B0B8>\n",
      "<PIL.JpegImagePlugin.JpegImageFile image mode=RGB size=30x16 at 0x1545680B710>\n",
      "<PIL.JpegImagePlugin.JpegImageFile image mode=RGB size=30x16 at 0x1545680B9B0>\n",
      "<PIL.JpegImagePlugin.JpegImageFile image mode=RGB size=30x16 at 0x1545680BB00>\n",
      "<PIL.JpegImagePlugin.JpegImageFile image mode=RGB size=30x16 at 0x1545680BA58>\n",
      "<PIL.JpegImagePlugin.JpegImageFile image mode=RGB size=30x16 at 0x1545680BB00>\n",
      "<PIL.JpegImagePlugin.JpegImageFile image mode=RGB size=30x16 at 0x1545680BFD0>\n",
      "<PIL.JpegImagePlugin.JpegImageFile image mode=RGB size=30x16 at 0x1545680B6D8>\n",
      "<PIL.JpegImagePlugin.JpegImageFile image mode=RGB size=30x16 at 0x1545680BA58>\n",
      "<PIL.JpegImagePlugin.JpegImageFile image mode=RGB size=30x16 at 0x1545680B2B0>\n"
     ]
    },
    {
     "data": {
      "image/png": "[encoded data removed]",
      "text/plain": [
       "<PIL.JpegImagePlugin.JpegImageFile image mode=RGB size=30x16 at 0x1545680B2B0>"
      ]
     },
     "execution_count": 25,
     "metadata": {},
     "output_type": "execute_result"
    }
   ],
   "source": [
    "for x in range(len(url2)):\n",
    "    for url in url2:\n",
    "    \n",
    "        resource = urllib.request.urlopen(url)\n",
    "        im = Image.open(resource)\n",
    "        im.thumbnail([30,30])\n",
    "    \n",
    "        im.save(f\"./pictures/pic{x}.jpg\")\n",
    "        print(im)\n",
    "im"
   ]
  },
  {
   "cell_type": "code",
   "execution_count": 40,
   "metadata": {},
   "outputs": [
    {
     "name": "stdout",
     "output_type": "stream",
     "text": [
      "<PIL.JpegImagePlugin.JpegImageFile image mode=RGB size=30x16 at 0x154572CBAC8>\n",
      "<PIL.JpegImagePlugin.JpegImageFile image mode=RGB size=30x16 at 0x154572CB128>\n",
      "<PIL.JpegImagePlugin.JpegImageFile image mode=RGB size=30x16 at 0x154572CBAC8>\n",
      "<PIL.JpegImagePlugin.JpegImageFile image mode=RGB size=30x16 at 0x154572CB128>\n"
     ]
    }
   ],
   "source": [
    "for index, url in enumerate(url2):\n",
    "    resource = urllib.request.urlopen(url)\n",
    "    im = Image.open(resource)\n",
    "    im.thumbnail([30,30])\n",
    "    \n",
    "    im.save(f\"./pictures/pic{index}.jpg\")\n",
    "    print(im)"
   ]
  },
  {
   "cell_type": "code",
   "execution_count": 35,
   "metadata": {},
   "outputs": [
    {
     "name": "stdout",
     "output_type": "stream",
     "text": [
      "https://image.tmdb.org/t/p/w500//2YeGZ3SmtMZS8jjvvYAcdQVj6rI.jpg\n",
      "https://image.tmdb.org/t/p/w500//KIXl4ATvrBUmMmKc6f18p7akes.jpg\n",
      "https://image.tmdb.org/t/p/w500//pnMzSsCrrR3LBw8ZqYCDBwoBHER.jpg\n",
      "https://image.tmdb.org/t/p/w500//kV0wiMw24cgac7BqcppgkmUSGIw.jpg\n"
     ]
    }
   ],
   "source": [
    "for index, url in enumerate(url2):\n",
    "    print(url)\n",
    "    r = req.get(url, allow_redirects=True)\n",
    "    open(f'./pictures/pic{index}.jpg', 'wb').write(r.content)"
   ]
  },
  {
   "cell_type": "code",
   "execution_count": null,
   "metadata": {
    "collapsed": true
   },
   "outputs": [],
   "source": []
  }
 ],
 "metadata": {
  "kernelspec": {
   "display_name": "Python 3",
   "language": "python",
   "name": "python3"
  },
  "language_info": {
   "codemirror_mode": {
    "name": "ipython",
    "version": 3
   },
   "file_extension": ".py",
   "mimetype": "text/x-python",
   "name": "python",
   "nbconvert_exporter": "python",
   "pygments_lexer": "ipython3",
   "version": "3.6.2"
  }
 },
 "nbformat": 4,
 "nbformat_minor": 2
}
