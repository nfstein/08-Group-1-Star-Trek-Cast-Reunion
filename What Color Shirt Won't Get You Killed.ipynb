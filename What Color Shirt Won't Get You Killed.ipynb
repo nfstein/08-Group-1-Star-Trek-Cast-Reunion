{
 "cells": [
  {
   "cell_type": "code",
   "execution_count": 21,
   "metadata": {},
   "outputs": [],
   "source": [
    "import scipy.stats as sci\n",
    "import numpy as np\n",
    "import matplotlib.pyplot as plt\n",
    "import pandas as pd\n",
    "import os"
   ]
  },
  {
   "cell_type": "markdown",
   "metadata": {},
   "source": [
    "## Fatalities by Uniform Colors"
   ]
  },
  {
   "cell_type": "code",
   "execution_count": 2,
   "metadata": {},
   "outputs": [],
   "source": [
    "#This data was collected from \"real\" deaths on the show from authoritative reference sources.\n",
    "shirt_color = [\"Blue\", \"Gold\", \"Red\"]\n",
    "areas = [\"Science and medical\", \"Command and helm\", \"Operations, engineering, and security\"]\n",
    "crew = [136, 55, 239]\n",
    "fatalities = [7, 9, 24]"
   ]
  },
  {
   "cell_type": "code",
   "execution_count": 3,
   "metadata": {},
   "outputs": [
    {
     "data": {
      "text/html": [
       "<div>\n",
       "<style scoped>\n",
       "    .dataframe tbody tr th:only-of-type {\n",
       "        vertical-align: middle;\n",
       "    }\n",
       "\n",
       "    .dataframe tbody tr th {\n",
       "        vertical-align: top;\n",
       "    }\n",
       "\n",
       "    .dataframe thead th {\n",
       "        text-align: right;\n",
       "    }\n",
       "</style>\n",
       "<table border=\"1\" class=\"dataframe\">\n",
       "  <thead>\n",
       "    <tr style=\"text-align: right;\">\n",
       "      <th></th>\n",
       "      <th>Areas of the Ship</th>\n",
       "      <th>Crew</th>\n",
       "      <th>Fatalities</th>\n",
       "      <th>Shirt Color</th>\n",
       "    </tr>\n",
       "  </thead>\n",
       "  <tbody>\n",
       "    <tr>\n",
       "      <th>0</th>\n",
       "      <td>Science and medical</td>\n",
       "      <td>136</td>\n",
       "      <td>7</td>\n",
       "      <td>Blue</td>\n",
       "    </tr>\n",
       "    <tr>\n",
       "      <th>1</th>\n",
       "      <td>Command and helm</td>\n",
       "      <td>55</td>\n",
       "      <td>9</td>\n",
       "      <td>Gold</td>\n",
       "    </tr>\n",
       "    <tr>\n",
       "      <th>2</th>\n",
       "      <td>Operations, engineering, and security</td>\n",
       "      <td>239</td>\n",
       "      <td>24</td>\n",
       "      <td>Red</td>\n",
       "    </tr>\n",
       "  </tbody>\n",
       "</table>\n",
       "</div>"
      ],
      "text/plain": [
       "                       Areas of the Ship  Crew  Fatalities Shirt Color\n",
       "0                    Science and medical   136           7        Blue\n",
       "1                       Command and helm    55           9        Gold\n",
       "2  Operations, engineering, and security   239          24         Red"
      ]
     },
     "execution_count": 3,
     "metadata": {},
     "output_type": "execute_result"
    }
   ],
   "source": [
    "#create the df for later chi square analysis\n",
    "df = pd.DataFrame({'Shirt Color': shirt_color,\n",
    "                   'Areas of the Ship': areas,\n",
    "                   'Crew': crew,\n",
    "                   'Fatalities': fatalities})\n",
    "df.head()"
   ]
  },
  {
   "cell_type": "markdown",
   "metadata": {},
   "source": [
    "## Totals for Chi Square Stats"
   ]
  },
  {
   "cell_type": "code",
   "execution_count": 4,
   "metadata": {},
   "outputs": [
    {
     "data": {
      "text/html": [
       "<div>\n",
       "<style scoped>\n",
       "    .dataframe tbody tr th:only-of-type {\n",
       "        vertical-align: middle;\n",
       "    }\n",
       "\n",
       "    .dataframe tbody tr th {\n",
       "        vertical-align: top;\n",
       "    }\n",
       "\n",
       "    .dataframe thead th {\n",
       "        text-align: right;\n",
       "    }\n",
       "</style>\n",
       "<table border=\"1\" class=\"dataframe\">\n",
       "  <thead>\n",
       "    <tr style=\"text-align: right;\">\n",
       "      <th></th>\n",
       "      <th>Alive</th>\n",
       "      <th>Dead</th>\n",
       "      <th>Total</th>\n",
       "    </tr>\n",
       "  </thead>\n",
       "  <tbody>\n",
       "    <tr>\n",
       "      <th>Count</th>\n",
       "      <td>390.000000</td>\n",
       "      <td>40.000000</td>\n",
       "      <td>430.0</td>\n",
       "    </tr>\n",
       "    <tr>\n",
       "      <th>Percentage of Row</th>\n",
       "      <td>0.906977</td>\n",
       "      <td>0.093023</td>\n",
       "      <td>1.0</td>\n",
       "    </tr>\n",
       "    <tr>\n",
       "      <th>Expected Count</th>\n",
       "      <td>390.000000</td>\n",
       "      <td>40.000000</td>\n",
       "      <td>430.0</td>\n",
       "    </tr>\n",
       "  </tbody>\n",
       "</table>\n",
       "</div>"
      ],
      "text/plain": [
       "                        Alive       Dead  Total\n",
       "Count              390.000000  40.000000  430.0\n",
       "Percentage of Row    0.906977   0.093023    1.0\n",
       "Expected Count     390.000000  40.000000  430.0"
      ]
     },
     "execution_count": 4,
     "metadata": {},
     "output_type": "execute_result"
    }
   ],
   "source": [
    "#gather, manipulate, and group data for frequency calculations used in later chi square test\n",
    "#Column Total Chi Square\n",
    "crew_total = df['Crew'].sum()\n",
    "fatalities_total = df['Fatalities'].sum()\n",
    "alive_total = crew_total - fatalities_total\n",
    "percent_fatalities = fatalities_total / crew_total\n",
    "percent_alive = alive_total / crew_total\n",
    "percent_total = percent_fatalities + percent_alive\n",
    "expected_alive_all = alive_total\n",
    "expected_dead_all = fatalities_total\n",
    "expected_total_all = expected_alive_all + expected_dead_all\n",
    "alive_all = [alive_total, percent_alive, expected_alive_all]\n",
    "dead_all = [fatalities_total, percent_fatalities, expected_dead_all]\n",
    "all_all = [crew_total, percent_total, expected_total_all]\n",
    "all_df = pd.DataFrame({'Alive': alive_all,\n",
    "                       'Dead': dead_all,\n",
    "                       'Total': all_all},\n",
    "                       index = ['Count', 'Percentage of Row', 'Expected Count']\n",
    "                      )\n",
    "all_df.head()"
   ]
  },
  {
   "cell_type": "markdown",
   "metadata": {},
   "source": [
    "## Blue Shirt Chi Square Stat"
   ]
  },
  {
   "cell_type": "code",
   "execution_count": 5,
   "metadata": {},
   "outputs": [
    {
     "data": {
      "text/html": [
       "<div>\n",
       "<style scoped>\n",
       "    .dataframe tbody tr th:only-of-type {\n",
       "        vertical-align: middle;\n",
       "    }\n",
       "\n",
       "    .dataframe tbody tr th {\n",
       "        vertical-align: top;\n",
       "    }\n",
       "\n",
       "    .dataframe thead th {\n",
       "        text-align: right;\n",
       "    }\n",
       "</style>\n",
       "<table border=\"1\" class=\"dataframe\">\n",
       "  <thead>\n",
       "    <tr style=\"text-align: right;\">\n",
       "      <th></th>\n",
       "      <th>Alive</th>\n",
       "      <th>Dead</th>\n",
       "      <th>Total</th>\n",
       "    </tr>\n",
       "  </thead>\n",
       "  <tbody>\n",
       "    <tr>\n",
       "      <th>Count</th>\n",
       "      <td>129</td>\n",
       "      <td>7</td>\n",
       "      <td>136</td>\n",
       "    </tr>\n",
       "    <tr>\n",
       "      <th>Percentage of Row</th>\n",
       "      <td>94.85%</td>\n",
       "      <td>5.15%</td>\n",
       "      <td>100.00%</td>\n",
       "    </tr>\n",
       "    <tr>\n",
       "      <th>Expected Count</th>\n",
       "      <td>123.35</td>\n",
       "      <td>12.65</td>\n",
       "      <td>136.00</td>\n",
       "    </tr>\n",
       "    <tr>\n",
       "      <th>Contribution to Chi Square</th>\n",
       "      <td>0.2589</td>\n",
       "      <td>2.5243</td>\n",
       "      <td>0.0000</td>\n",
       "    </tr>\n",
       "  </tbody>\n",
       "</table>\n",
       "</div>"
      ],
      "text/plain": [
       "                             Alive    Dead    Total\n",
       "Count                          129       7      136\n",
       "Percentage of Row           94.85%   5.15%  100.00%\n",
       "Expected Count              123.35   12.65   136.00\n",
       "Contribution to Chi Square  0.2589  2.5243   0.0000"
      ]
     },
     "execution_count": 5,
     "metadata": {},
     "output_type": "execute_result"
    }
   ],
   "source": [
    "blue_dead = df.iloc[0]['Fatalities']\n",
    "blue_alive = df.iloc[0]['Crew'] - blue_dead\n",
    "blue_total = blue_alive + blue_dead\n",
    "blue_percent_alive = blue_alive / blue_total * 100\n",
    "blue_percent_dead = blue_dead / blue_total * 100\n",
    "blue_percent_total = blue_total / blue_total * 100\n",
    "blue_alive_expected = percent_alive *  blue_total\n",
    "blue_dead_expected = percent_fatalities * blue_total\n",
    "blue_total_expected = blue_alive_expected + blue_dead_expected\n",
    "blue_alive_chi = ((blue_alive-blue_alive_expected)**2)/(blue_alive_expected)\n",
    "blue_dead_chi = ((blue_dead-blue_dead_expected)**2)/(blue_dead_expected)\n",
    "blue_all_chi = 0\n",
    "blue_alive_list = [blue_alive, blue_percent_alive, blue_alive_expected, blue_alive_chi]\n",
    "blue_dead_list = [blue_dead, blue_percent_dead, blue_dead_expected, blue_dead_chi]\n",
    "blue_all_list = [blue_total, blue_percent_total, blue_total_expected, blue_all_chi]\n",
    "blue_df = pd.DataFrame({'Alive': blue_alive_list,\n",
    "                       'Dead': blue_dead_list,\n",
    "                       'Total': blue_all_list},\n",
    "                       index = ['Count', 'Percentage of Row', 'Expected Count', 'Contribution to Chi Square']\n",
    "                      )\n",
    "blue_df.loc['Count'] = blue_df.loc['Count'].map(\"{:,.0f}\".format)\n",
    "blue_df.loc['Percentage of Row'] = blue_df.loc['Percentage of Row'].map(\"{:,.2f}%\".format)\n",
    "blue_df.loc['Expected Count'] = blue_df.loc['Expected Count'].map(\"{:,.2f}\".format)\n",
    "blue_df.loc['Contribution to Chi Square'] = blue_df.loc['Contribution to Chi Square'].map(\"{:,.4f}\".format)\n",
    "blue_df"
   ]
  },
  {
   "cell_type": "markdown",
   "metadata": {},
   "source": [
    "## Gold Shirt Chi Square Stat"
   ]
  },
  {
   "cell_type": "code",
   "execution_count": 6,
   "metadata": {},
   "outputs": [
    {
     "data": {
      "text/html": [
       "<div>\n",
       "<style scoped>\n",
       "    .dataframe tbody tr th:only-of-type {\n",
       "        vertical-align: middle;\n",
       "    }\n",
       "\n",
       "    .dataframe tbody tr th {\n",
       "        vertical-align: top;\n",
       "    }\n",
       "\n",
       "    .dataframe thead th {\n",
       "        text-align: right;\n",
       "    }\n",
       "</style>\n",
       "<table border=\"1\" class=\"dataframe\">\n",
       "  <thead>\n",
       "    <tr style=\"text-align: right;\">\n",
       "      <th></th>\n",
       "      <th>Alive</th>\n",
       "      <th>Dead</th>\n",
       "      <th>Total</th>\n",
       "    </tr>\n",
       "  </thead>\n",
       "  <tbody>\n",
       "    <tr>\n",
       "      <th>Count</th>\n",
       "      <td>46</td>\n",
       "      <td>9</td>\n",
       "      <td>55</td>\n",
       "    </tr>\n",
       "    <tr>\n",
       "      <th>Percentage of Row</th>\n",
       "      <td>83.64%</td>\n",
       "      <td>16.36%</td>\n",
       "      <td>100.00%</td>\n",
       "    </tr>\n",
       "    <tr>\n",
       "      <th>Expected Count</th>\n",
       "      <td>49.88</td>\n",
       "      <td>5.12</td>\n",
       "      <td>55.00</td>\n",
       "    </tr>\n",
       "    <tr>\n",
       "      <th>Contribution to Chi Square</th>\n",
       "      <td>0.3024</td>\n",
       "      <td>2.9481</td>\n",
       "      <td>0.0000</td>\n",
       "    </tr>\n",
       "  </tbody>\n",
       "</table>\n",
       "</div>"
      ],
      "text/plain": [
       "                             Alive    Dead    Total\n",
       "Count                           46       9       55\n",
       "Percentage of Row           83.64%  16.36%  100.00%\n",
       "Expected Count               49.88    5.12    55.00\n",
       "Contribution to Chi Square  0.3024  2.9481   0.0000"
      ]
     },
     "execution_count": 6,
     "metadata": {},
     "output_type": "execute_result"
    }
   ],
   "source": [
    "gold_dead = df.iloc[1]['Fatalities']\n",
    "gold_alive = df.iloc[1]['Crew'] - gold_dead\n",
    "gold_total = gold_alive + gold_dead\n",
    "gold_percent_alive = gold_alive / gold_total * 100\n",
    "gold_percent_dead = gold_dead / gold_total * 100\n",
    "gold_percent_total = gold_total / gold_total * 100\n",
    "gold_alive_expected = percent_alive *  gold_total\n",
    "gold_dead_expected = percent_fatalities * gold_total\n",
    "gold_total_expected = gold_alive_expected + gold_dead_expected\n",
    "gold_alive_chi = ((gold_alive-gold_alive_expected)**2)/(gold_alive_expected)\n",
    "gold_dead_chi = ((gold_dead-gold_dead_expected)**2)/(gold_dead_expected)\n",
    "gold_all_chi = 0\n",
    "gold_alive_list = [gold_alive, gold_percent_alive, gold_alive_expected, gold_alive_chi]\n",
    "gold_dead_list = [gold_dead, gold_percent_dead, gold_dead_expected, gold_dead_chi]\n",
    "gold_all_list = [gold_total, gold_percent_total, gold_total_expected, gold_all_chi]\n",
    "gold_df = pd.DataFrame({'Alive': gold_alive_list,\n",
    "                       'Dead': gold_dead_list,\n",
    "                       'Total': gold_all_list},\n",
    "                       index = ['Count', 'Percentage of Row', 'Expected Count', 'Contribution to Chi Square']\n",
    "                      )\n",
    "gold_df.loc['Count'] = gold_df.loc['Count'].map(\"{:,.0f}\".format)\n",
    "gold_df.loc['Percentage of Row'] = gold_df.loc['Percentage of Row'].map(\"{:,.2f}%\".format)\n",
    "gold_df.loc['Expected Count'] = gold_df.loc['Expected Count'].map(\"{:,.2f}\".format)\n",
    "gold_df.loc['Contribution to Chi Square'] = gold_df.loc['Contribution to Chi Square'].map(\"{:,.4f}\".format)\n",
    "gold_df"
   ]
  },
  {
   "cell_type": "markdown",
   "metadata": {},
   "source": [
    "## Red Shirt Chi Square Stat"
   ]
  },
  {
   "cell_type": "code",
   "execution_count": 7,
   "metadata": {},
   "outputs": [
    {
     "data": {
      "text/html": [
       "<div>\n",
       "<style scoped>\n",
       "    .dataframe tbody tr th:only-of-type {\n",
       "        vertical-align: middle;\n",
       "    }\n",
       "\n",
       "    .dataframe tbody tr th {\n",
       "        vertical-align: top;\n",
       "    }\n",
       "\n",
       "    .dataframe thead th {\n",
       "        text-align: right;\n",
       "    }\n",
       "</style>\n",
       "<table border=\"1\" class=\"dataframe\">\n",
       "  <thead>\n",
       "    <tr style=\"text-align: right;\">\n",
       "      <th></th>\n",
       "      <th>Alive</th>\n",
       "      <th>Dead</th>\n",
       "      <th>Total</th>\n",
       "    </tr>\n",
       "  </thead>\n",
       "  <tbody>\n",
       "    <tr>\n",
       "      <th>Count</th>\n",
       "      <td>215</td>\n",
       "      <td>24</td>\n",
       "      <td>239</td>\n",
       "    </tr>\n",
       "    <tr>\n",
       "      <th>Percentage of Row</th>\n",
       "      <td>89.96%</td>\n",
       "      <td>10.04%</td>\n",
       "      <td>100.00%</td>\n",
       "    </tr>\n",
       "    <tr>\n",
       "      <th>Expected Count</th>\n",
       "      <td>216.77</td>\n",
       "      <td>22.23</td>\n",
       "      <td>239.00</td>\n",
       "    </tr>\n",
       "    <tr>\n",
       "      <th>Contribution to Chi Square</th>\n",
       "      <td>0.0144</td>\n",
       "      <td>0.1405</td>\n",
       "      <td>0.0000</td>\n",
       "    </tr>\n",
       "  </tbody>\n",
       "</table>\n",
       "</div>"
      ],
      "text/plain": [
       "                             Alive    Dead    Total\n",
       "Count                          215      24      239\n",
       "Percentage of Row           89.96%  10.04%  100.00%\n",
       "Expected Count              216.77   22.23   239.00\n",
       "Contribution to Chi Square  0.0144  0.1405   0.0000"
      ]
     },
     "execution_count": 7,
     "metadata": {},
     "output_type": "execute_result"
    }
   ],
   "source": [
    "red_dead = df.iloc[2]['Fatalities']\n",
    "red_alive = df.iloc[2]['Crew'] - red_dead\n",
    "red_total = red_alive + red_dead\n",
    "red_percent_alive = red_alive / red_total * 100\n",
    "red_percent_dead = red_dead / red_total * 100\n",
    "red_percent_total = red_total / red_total * 100\n",
    "red_alive_expected = percent_alive *  red_total\n",
    "red_dead_expected = percent_fatalities * red_total\n",
    "red_total_expected = red_alive_expected + red_dead_expected\n",
    "red_alive_chi = ((red_alive-red_alive_expected)**2)/(red_alive_expected)\n",
    "red_dead_chi = ((red_dead-red_dead_expected)**2)/(red_dead_expected)\n",
    "red_all_chi = 0\n",
    "red_alive_list = [red_alive, red_percent_alive, red_alive_expected, red_alive_chi]\n",
    "red_dead_list = [red_dead, red_percent_dead, red_dead_expected, red_dead_chi]\n",
    "red_all_list = [red_total, red_percent_total, red_total_expected, red_all_chi]\n",
    "red_df = pd.DataFrame({'Alive': red_alive_list,\n",
    "                       'Dead': red_dead_list,\n",
    "                       'Total': red_all_list},\n",
    "                       index = ['Count', 'Percentage of Row', 'Expected Count', 'Contribution to Chi Square']\n",
    "                     )\n",
    "red_df.loc['Count'] = red_df.loc['Count'].map(\"{:,.0f}\".format)\n",
    "red_df.loc['Percentage of Row'] = red_df.loc['Percentage of Row'].map(\"{:,.2f}%\".format)\n",
    "red_df.loc['Expected Count'] = red_df.loc['Expected Count'].map(\"{:,.2f}\".format)\n",
    "red_df.loc['Contribution to Chi Square'] = red_df.loc['Contribution to Chi Square'].map(\"{:,.4f}\".format)\n",
    "red_df"
   ]
  },
  {
   "cell_type": "markdown",
   "metadata": {},
   "source": [
    "## Chi Square Test Statistic Results"
   ]
  },
  {
   "cell_type": "code",
   "execution_count": 8,
   "metadata": {},
   "outputs": [
    {
     "data": {
      "text/html": [
       "<div>\n",
       "<style scoped>\n",
       "    .dataframe tbody tr th:only-of-type {\n",
       "        vertical-align: middle;\n",
       "    }\n",
       "\n",
       "    .dataframe tbody tr th {\n",
       "        vertical-align: top;\n",
       "    }\n",
       "\n",
       "    .dataframe thead th {\n",
       "        text-align: right;\n",
       "    }\n",
       "</style>\n",
       "<table border=\"1\" class=\"dataframe\">\n",
       "  <thead>\n",
       "    <tr style=\"text-align: right;\">\n",
       "      <th></th>\n",
       "      <th>Chi-Square</th>\n",
       "      <th>DF</th>\n",
       "      <th>P-Value</th>\n",
       "    </tr>\n",
       "  </thead>\n",
       "  <tbody>\n",
       "    <tr>\n",
       "      <th>Chi-Square Test Stats</th>\n",
       "      <td>6.189</td>\n",
       "      <td>2</td>\n",
       "      <td>0.045</td>\n",
       "    </tr>\n",
       "  </tbody>\n",
       "</table>\n",
       "</div>"
      ],
      "text/plain": [
       "                      Chi-Square  DF  P-Value\n",
       "Chi-Square Test Stats      6.189   2    0.045"
      ]
     },
     "execution_count": 8,
     "metadata": {},
     "output_type": "execute_result"
    }
   ],
   "source": [
    "chi_square = blue_alive_chi + blue_dead_chi + red_alive_chi + red_dead_chi + gold_alive_chi + gold_dead_chi\n",
    "degrees_freedom = len(df) - 1\n",
    "p_value = 0.045\n",
    "chi_df = pd.DataFrame({'Chi-Square': chi_square,\n",
    "                       'DF': degrees_freedom,\n",
    "                       'P-Value': p_value},\n",
    "                      index = ['Chi-Square Test Stats'])\n",
    "chi_df['Chi-Square'] = chi_df['Chi-Square'].map(\"{:,.3f}\".format)\n",
    "chi_df"
   ]
  },
  {
   "cell_type": "code",
   "execution_count": 24,
   "metadata": {},
   "outputs": [
    {
     "data": {
      "image/png": "[encoded data removed]",
      "text/plain": [
       "<matplotlib.figure.Figure at 0x2582bace9b0>"
      ]
     },
     "metadata": {},
     "output_type": "display_data"
    }
   ],
   "source": [
    "#graph contribution to chi square\n",
    "x_axis = df['Shirt Color']\n",
    "y_pos = np.arange(len(df))\n",
    "contributions_dead = [blue_dead_chi, gold_dead_chi, red_dead_chi]\n",
    "\n",
    "plt.bar(y_pos, contributions_dead, align='center', alpha=0.5)\n",
    "plt.xticks(y_pos, x_axis, rotation='vertical')\n",
    "plt.ylabel('Contribution')\n",
    "plt.xlabel('Shirt Color')\n",
    "plt.title('Deaths Contribution to Chi-Square Statistic')\n",
    "filepath = os.path.join('images','charts', \"Deaths_Contribution_to_Chi-Square.png\")\n",
    "plt.savefig(filepath, bbox_inches='tight')\n",
    "plt.show()"
   ]
  },
  {
   "cell_type": "code",
   "execution_count": 25,
   "metadata": {},
   "outputs": [
    {
     "data": {
      "image/png": "[encoded data removed]",
      "text/plain": [
       "<matplotlib.figure.Figure at 0x2582ba9a518>"
      ]
     },
     "metadata": {},
     "output_type": "display_data"
    }
   ],
   "source": [
    "#Percentage of Fatalities\n",
    "x_axis = ['Blue', 'Gold', 'Red', 'All']\n",
    "y_pos = np.arange(len(df)+1)\n",
    "percent_dead = [(blue_dead/blue_total*100), (gold_dead/gold_total*100), (red_dead/red_total*100), ((blue_dead+red_dead+gold_dead)/crew_total)*100]\n",
    "\n",
    "plt.bar(y_pos, percent_dead, align='center', alpha=0.5)\n",
    "plt.xticks(y_pos, x_axis, rotation='vertical')\n",
    "plt.ylabel('Percent')\n",
    "plt.xlabel('Shirt Color')\n",
    "plt.title('Percentage of Fatalities')\n",
    "filepath = os.path.join('images','charts', \"Percentage_of_Fatalities.png\")\n",
    "plt.savefig(filepath, bbox_inches='tight')\n",
    "plt.show()"
   ]
  },
  {
   "cell_type": "markdown",
   "metadata": {},
   "source": [
    "## Two Proportions Test"
   ]
  },
  {
   "cell_type": "code",
   "execution_count": 27,
   "metadata": {},
   "outputs": [
    {
     "data": {
      "text/html": [
       "<div>\n",
       "<style scoped>\n",
       "    .dataframe tbody tr th:only-of-type {\n",
       "        vertical-align: middle;\n",
       "    }\n",
       "\n",
       "    .dataframe tbody tr th {\n",
       "        vertical-align: top;\n",
       "    }\n",
       "\n",
       "    .dataframe thead th {\n",
       "        text-align: right;\n",
       "    }\n",
       "</style>\n",
       "<table border=\"1\" class=\"dataframe\">\n",
       "  <thead>\n",
       "    <tr style=\"text-align: right;\">\n",
       "      <th></th>\n",
       "      <th>Deaths</th>\n",
       "      <th>Personnel</th>\n",
       "    </tr>\n",
       "  </thead>\n",
       "  <tbody>\n",
       "    <tr>\n",
       "      <th>Red in Security</th>\n",
       "      <td>18</td>\n",
       "      <td>90</td>\n",
       "    </tr>\n",
       "    <tr>\n",
       "      <th>Red not in Security</th>\n",
       "      <td>6</td>\n",
       "      <td>149</td>\n",
       "    </tr>\n",
       "  </tbody>\n",
       "</table>\n",
       "</div>"
      ],
      "text/plain": [
       "                     Deaths  Personnel\n",
       "Red in Security          18         90\n",
       "Red not in Security       6        149"
      ]
     },
     "execution_count": 27,
     "metadata": {},
     "output_type": "execute_result"
    }
   ],
   "source": [
    "#To compare security red-shirts to non-security red shirts\n",
    "#Broken down data for red shirts\n",
    "deaths = [18, 6]\n",
    "personnel = [90, 149]\n",
    "red_dept_df = pd.DataFrame({\"Deaths\": deaths,\n",
    "                            \"Personnel\": personnel},\n",
    "                           index = ['Red in Security', 'Red not in Security'])\n",
    "red_dept_df"
   ]
  },
  {
   "cell_type": "code",
   "execution_count": 31,
   "metadata": {},
   "outputs": [
    {
     "data": {
      "text/html": [
       "<div>\n",
       "<style scoped>\n",
       "    .dataframe tbody tr th:only-of-type {\n",
       "        vertical-align: middle;\n",
       "    }\n",
       "\n",
       "    .dataframe tbody tr th {\n",
       "        vertical-align: top;\n",
       "    }\n",
       "\n",
       "    .dataframe thead th {\n",
       "        text-align: right;\n",
       "    }\n",
       "</style>\n",
       "<table border=\"1\" class=\"dataframe\">\n",
       "  <thead>\n",
       "    <tr style=\"text-align: right;\">\n",
       "      <th></th>\n",
       "      <th>P Value</th>\n",
       "      <th>Proportion Difference</th>\n",
       "      <th>Z Score</th>\n",
       "    </tr>\n",
       "  </thead>\n",
       "  <tbody>\n",
       "    <tr>\n",
       "      <th>Two Proportion Test</th>\n",
       "      <td>0</td>\n",
       "      <td>0.159732</td>\n",
       "      <td>3.54</td>\n",
       "    </tr>\n",
       "  </tbody>\n",
       "</table>\n",
       "</div>"
      ],
      "text/plain": [
       "                     P Value  Proportion Difference  Z Score\n",
       "Two Proportion Test        0               0.159732     3.54"
      ]
     },
     "execution_count": 31,
     "metadata": {},
     "output_type": "execute_result"
    }
   ],
   "source": [
    "#Test and CI for Two Proportions\n",
    "sample_p_security = red_dept_df.iloc[0]['Deaths']/red_dept_df.iloc[0]['Personnel']\n",
    "sample_p_not_security = red_dept_df.iloc[1]['Deaths']/red_dept_df.iloc[1]['Personnel']\n",
    "p_difference = sample_p_security - sample_p_not_security\n",
    "z_score = 3.54\n",
    "p_value = 0\n",
    "two_proportions_df = pd.DataFrame({'Proportion Difference': p_difference,\n",
    "                                   'Z Score': z_score,\n",
    "                                   'P Value': p_value},\n",
    "                                  index = ['Two Proportion Test'])\n",
    "two_proportions_df"
   ]
  },
  {
   "cell_type": "markdown",
   "metadata": {},
   "source": [
    "# P-Value is 0, two proportions significantly different. Just the red shirt security that have the highest fatality rate on the ship."
   ]
  },
  {
   "cell_type": "code",
   "execution_count": null,
   "metadata": {},
   "outputs": [],
   "source": []
  }
 ],
 "metadata": {
  "kernelspec": {
   "display_name": "Python 3",
   "language": "python",
   "name": "python3"
  },
  "language_info": {
   "codemirror_mode": {
    "name": "ipython",
    "version": 3
   },
   "file_extension": ".py",
   "mimetype": "text/x-python",
   "name": "python",
   "nbconvert_exporter": "python",
   "pygments_lexer": "ipython3",
   "version": "3.6.3"
  }
 },
 "nbformat": 4,
 "nbformat_minor": 2
}
